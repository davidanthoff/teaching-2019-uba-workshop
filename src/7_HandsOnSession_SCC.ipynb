{
 "cells": [
  {
   "cell_type": "markdown",
   "metadata": {},
   "source": [
    "# IAM UBA Workshop 2019"
   ]
  },
  {
   "cell_type": "markdown",
   "metadata": {},
   "source": [
    "## 7. Compute the Social Cost of Carbon"
   ]
  },
  {
   "cell_type": "markdown",
   "metadata": {},
   "source": [
    "In this final section we will compute the Social Cost of Carbon with all the models that we have used in this workshop."
   ]
  },
  {
   "cell_type": "markdown",
   "metadata": {},
   "source": [
    "### Base calculations"
   ]
  },
  {
   "cell_type": "markdown",
   "metadata": {},
   "source": [
    "First, let's load all the models we want to use for this exercise:"
   ]
  },
  {
   "cell_type": "code",
   "execution_count": 1,
   "metadata": {},
   "outputs": [],
   "source": [
    "using Mimi, MimiDICE2010, MimiDICE2013, MimiRICE2010, MimiPAGE2009, MimiFUND"
   ]
  },
  {
   "cell_type": "markdown",
   "metadata": {},
   "source": [
    "We can then call the `compute_scc` function for each model to get a SCC estimate for that model. Note that we have to pass the year of the marginal emission pulse as a keyword argument to that function call. Note that the `compute_scc` function is a function that model creators have added individually to each of these models in an effort to maintain a consistent and useful API of commonly used functions, but is not inherent to Mimi itself."
   ]
  },
  {
   "cell_type": "code",
   "execution_count": 2,
   "metadata": {},
   "outputs": [
    {
     "data": {
      "text/plain": [
       "16.39815430060173"
      ]
     },
     "execution_count": 2,
     "metadata": {},
     "output_type": "execute_result"
    }
   ],
   "source": [
    "MimiDICE2010.compute_scc(year=2015)"
   ]
  },
  {
   "cell_type": "code",
   "execution_count": 3,
   "metadata": {},
   "outputs": [
    {
     "data": {
      "text/plain": [
       "20.8723234611904"
      ]
     },
     "execution_count": 3,
     "metadata": {},
     "output_type": "execute_result"
    }
   ],
   "source": [
    "MimiDICE2013.compute_scc(year=2015)"
   ]
  },
  {
   "cell_type": "code",
   "execution_count": 4,
   "metadata": {},
   "outputs": [
    {
     "data": {
      "text/plain": [
       "52.326389484803975"
      ]
     },
     "execution_count": 4,
     "metadata": {},
     "output_type": "execute_result"
    }
   ],
   "source": [
    "MimiPAGE2009.compute_scc(year=2010)"
   ]
  },
  {
   "cell_type": "code",
   "execution_count": 5,
   "metadata": {},
   "outputs": [
    {
     "data": {
      "text/plain": [
       "14.546230704004822"
      ]
     },
     "execution_count": 5,
     "metadata": {},
     "output_type": "execute_result"
    }
   ],
   "source": [
    "MimiRICE2010.compute_scc(year=2015)"
   ]
  },
  {
   "cell_type": "code",
   "execution_count": 6,
   "metadata": {},
   "outputs": [
    {
     "data": {
      "text/plain": [
       "1.5928348049789185"
      ]
     },
     "execution_count": 6,
     "metadata": {},
     "output_type": "execute_result"
    }
   ],
   "source": [
    "MimiFUND.compute_scco2(year=2015)"
   ]
  },
  {
   "cell_type": "markdown",
   "metadata": {},
   "source": [
    "### Standardize across models"
   ]
  },
  {
   "cell_type": "markdown",
   "metadata": {},
   "source": [
    "We are still comparing apples and oranges, though, because we haven't adjusted price levels, nor discounting schemes. Lets try to come up with estimates that are more comparable by using a constant 3% discount rate for all models. We can achieve that by setting the elasticity of marginal utility with respect to consumption to 0 (e.g. `eta=0.`) and then using a 3% pure rate of time preference.\n",
    "\n",
    "Finally, we will also convert all price levels to 2019."
   ]
  },
  {
   "cell_type": "code",
   "execution_count": 7,
   "metadata": {},
   "outputs": [
    {
     "data": {
      "text/plain": [
       "49.877542928529714"
      ]
     },
     "execution_count": 7,
     "metadata": {},
     "output_type": "execute_result"
    }
   ],
   "source": [
    "MimiDICE2010.compute_scc(year=2015, prtp=0.03, eta=0.) * 1.34 # Convert from 2005 to 2019 $"
   ]
  },
  {
   "cell_type": "code",
   "execution_count": 8,
   "metadata": {},
   "outputs": [
    {
     "data": {
      "text/plain": [
       "62.679925156351"
      ]
     },
     "execution_count": 8,
     "metadata": {},
     "output_type": "execute_result"
    }
   ],
   "source": [
    "MimiDICE2013.compute_scc(year=2015, prtp=0.03, eta=0.) * 1.34 # Convert from 2005 to 2019 $"
   ]
  },
  {
   "cell_type": "code",
   "execution_count": 9,
   "metadata": {},
   "outputs": [
    {
     "data": {
      "text/plain": [
       "42.5465928983676"
      ]
     },
     "execution_count": 9,
     "metadata": {},
     "output_type": "execute_result"
    }
   ],
   "source": [
    "MimiRICE2010.compute_scc(year=2015, prtp=0.03, eta=0.) * 1.34 # Convert from 2005 to 2019 $"
   ]
  },
  {
   "cell_type": "code",
   "execution_count": 10,
   "metadata": {},
   "outputs": [
    {
     "data": {
      "text/plain": [
       "39.85041042211828"
      ]
     },
     "execution_count": 10,
     "metadata": {},
     "output_type": "execute_result"
    }
   ],
   "source": [
    "MimiPAGE2009.compute_scc(year=2010, prtp=0.03, eta=0.) * 1.21 # Convert from 2008 to 2019 $"
   ]
  },
  {
   "cell_type": "code",
   "execution_count": 11,
   "metadata": {},
   "outputs": [
    {
     "data": {
      "text/plain": [
       "9.930283935320011"
      ]
     },
     "execution_count": 11,
     "metadata": {},
     "output_type": "execute_result"
    }
   ],
   "source": [
    "MimiFUND.compute_sc(year=2015, gas=:CO2, prtp=0.03, eta=0.) * 1.7 # Convert from 1995 to 2019 $"
   ]
  },
  {
   "cell_type": "markdown",
   "metadata": {},
   "source": [
    "### With a modified model"
   ]
  },
  {
   "cell_type": "markdown",
   "metadata": {},
   "source": [
    "The precanned `compute_scc` functions work well if we want to run the models as they were built by their creators, but sometimes we want to compute the SCC for a modified model. In the following example we will compute the SCC with FUND for a climate sensitivity of 6.\n",
    "\n",
    "To do so, we first create a new FUND model instance:"
   ]
  },
  {
   "cell_type": "code",
   "execution_count": 12,
   "metadata": {},
   "outputs": [
    {
     "data": {
      "text/plain": [
       "29-component Mimi.Model:\n",
       "  scenariouncertainty::MimiFUND.scenariouncertainty\n",
       "  population::MimiFUND.population\n",
       "  geography::MimiFUND.geography\n",
       "  socioeconomic::MimiFUND.socioeconomic\n",
       "  emissions::MimiFUND.emissions\n",
       "  climateco2cycle::MimiFUND.climateco2cycle\n",
       "  climatech4cycle::MimiFUND.climatech4cycle\n",
       "  climaten2ocycle::MimiFUND.climaten2ocycle\n",
       "  climatesf6cycle::MimiFUND.climatesf6cycle\n",
       "  climateforcing::MimiFUND.climateforcing\n",
       "  climatedynamics::MimiFUND.climatedynamics\n",
       "  biodiversity::MimiFUND.biodiversity\n",
       "  climateregional::MimiFUND.climateregional\n",
       "  ocean::MimiFUND.ocean\n",
       "  impactagriculture::MimiFUND.impactagriculture\n",
       "  impactbiodiversity::MimiFUND.impactbiodiversity\n",
       "  impactcardiovascularrespiratory::MimiFUND.impactcardiovascularrespiratory\n",
       "  impactcooling::MimiFUND.impactcooling\n",
       "  impactdiarrhoea::MimiFUND.impactdiarrhoea\n",
       "  impactextratropicalstorms::MimiFUND.impactextratropicalstorms\n",
       "  impactforests::MimiFUND.impactforests\n",
       "  impactheating::MimiFUND.impactheating\n",
       "  impactvectorbornediseases::MimiFUND.impactvectorbornediseases\n",
       "  impacttropicalstorms::MimiFUND.impacttropicalstorms\n",
       "  vslvmorb::MimiFUND.vslvmorb\n",
       "  impactdeathmorbidity::MimiFUND.impactdeathmorbidity\n",
       "  impactwaterresources::MimiFUND.impactwaterresources\n",
       "  impactsealevelrise::MimiFUND.impactsealevelrise\n",
       "  impactaggregation::MimiFUND.impactaggregation\n"
      ]
     },
     "execution_count": 12,
     "metadata": {},
     "output_type": "execute_result"
    }
   ],
   "source": [
    "m_fund = MimiFUND.get_model()"
   ]
  },
  {
   "cell_type": "markdown",
   "metadata": {},
   "source": [
    "Next, we modify the climate sensitivity parameter in this model using the `set_param!` function that we used previously:"
   ]
  },
  {
   "cell_type": "code",
   "execution_count": 13,
   "metadata": {},
   "outputs": [],
   "source": [
    "set_param!(m_fund, :climatedynamics, :climatesensitivity, 6.)"
   ]
  },
  {
   "cell_type": "markdown",
   "metadata": {},
   "source": [
    "And now we can call the `compute_scc` function again, but pass our modified model as the first argument. In that case, `compute_scc` will use the modificatoins we made to the model when it estimates the SCC:"
   ]
  },
  {
   "cell_type": "code",
   "execution_count": 16,
   "metadata": {},
   "outputs": [
    {
     "data": {
      "text/plain": [
       "15.483425727840777"
      ]
     },
     "execution_count": 16,
     "metadata": {},
     "output_type": "execute_result"
    }
   ],
   "source": [
    "MimiFUND.compute_sc(m_fund, year=2015, gas=:CO2, eta=0., prtp=0.03) * 1.7"
   ]
  },
  {
   "cell_type": "markdown",
   "metadata": {},
   "source": [
    "### With equity weighting"
   ]
  },
  {
   "cell_type": "markdown",
   "metadata": {},
   "source": [
    "The equity weighting options currently only works for FUND. You can compute an equity weighted SCC with the following code:"
   ]
  },
  {
   "cell_type": "code",
   "execution_count": 15,
   "metadata": {},
   "outputs": [
    {
     "data": {
      "text/plain": [
       "5.841343491364714"
      ]
     },
     "execution_count": 15,
     "metadata": {},
     "output_type": "execute_result"
    }
   ],
   "source": [
    "MimiFUND.compute_sc(year=2015, gas=:CO2, eta=0., prtp=0.03, equity_weights=true, equity_weights_normalization_region=3)"
   ]
  },
  {
   "cell_type": "markdown",
   "metadata": {},
   "source": [
    "The `equity_weights_normalization_region` parameter controls how the equity weighted SCC is normalized. A value of `0` amounts to using a world average per capita value for the normalization. Any other value refers to an index of a region whos per capita values are used for the normalization."
   ]
  }
 ],
 "metadata": {
  "@webio": {
   "lastCommId": null,
   "lastKernelId": null
  },
  "kernelspec": {
   "display_name": "Julia 1.2.0",
   "language": "julia",
   "name": "julia-1.2"
  },
  "language_info": {
   "file_extension": ".jl",
   "mimetype": "application/julia",
   "name": "julia",
   "version": "1.2.0"
  }
 },
 "nbformat": 4,
 "nbformat_minor": 4
}
