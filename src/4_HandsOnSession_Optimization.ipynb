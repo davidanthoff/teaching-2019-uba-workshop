{
 "cells": [
  {
   "cell_type": "markdown",
   "metadata": {},
   "source": [
    "# IAM UBA Workshop 2019"
   ]
  },
  {
   "cell_type": "markdown",
   "metadata": {},
   "source": [
    "## 4. Optimization"
   ]
  },
  {
   "cell_type": "markdown",
   "metadata": {},
   "source": [
    "This section will show you how you can use the ability to modify parameters of a model to run an optimization that finds the optimal climate policy in DICE.\n",
    "\n",
    "We will use the [BlackBoxOptim.jl](https://github.com/robertfeldt/BlackBoxOptim.jl) optimization package for the actual optimization algorithm, so we first load that package, and all the other packages we need for this exercise:"
   ]
  },
  {
   "cell_type": "code",
   "execution_count": 1,
   "metadata": {},
   "outputs": [],
   "source": [
    "using BlackBoxOptim, MimiDICE2010, VegaLite, Mimi"
   ]
  },
  {
   "cell_type": "markdown",
   "metadata": {},
   "source": [
    "It will again be helpful to have a base version of the model that we can compare with the optimized version of the model, so we create and run that base version first:"
   ]
  },
  {
   "cell_type": "code",
   "execution_count": 2,
   "metadata": {},
   "outputs": [],
   "source": [
    "m_dice1 = MimiDICE2010.get_model()\n",
    "run(m_dice1)"
   ]
  },
  {
   "cell_type": "markdown",
   "metadata": {},
   "source": [
    "Then we create the instance of the model that we will use for the actual optimization:"
   ]
  },
  {
   "cell_type": "code",
   "execution_count": 3,
   "metadata": {},
   "outputs": [
    {
     "data": {
      "text/plain": [
       "9-component Mimi.Model:\n",
       "  grosseconomy::MimiDICE2010.grosseconomy\n",
       "  emissions::MimiDICE2010.emissions\n",
       "  co2cycle::MimiDICE2010.co2cycle\n",
       "  radiativeforcing::MimiDICE2010.radiativeforcing\n",
       "  climatedynamics::MimiDICE2010.climatedynamics\n",
       "  sealevelrise::MimiDICE2010.sealevelrise\n",
       "  damages::MimiDICE2010.damages\n",
       "  neteconomy::MimiDICE2010.neteconomy\n",
       "  welfare::MimiDICE2010.welfare\n"
      ]
     },
     "execution_count": 3,
     "metadata": {},
     "output_type": "execute_result"
    }
   ],
   "source": [
    "m_opt = MimiDICE2010.get_model()"
   ]
  },
  {
   "cell_type": "markdown",
   "metadata": {},
   "source": [
    "To interface with the solvers in BlackBoxOptim.jl, we need to define a function that the solver can call to evaluate our model for a given vector of values for the choice variables of our problem.\n",
    "\n",
    "Here we define such a function and name it `eval_dice`. The argument to this function is the emissions control vector.\n",
    "\n",
    "The first step in this function is to use `set_param!` to set the model instance's parameter `MIU` in component `emissions` to the values we received from the solver. We then run the model by calling the `run` function, and finally retrieve the value for total welfare, the quantity we aim to maximize, from the model. Note that BlackBoxOptim.jl will try to minimize the objective function, but we of course want to maximize welfare, so we actually return the negative of welfare from this function."
   ]
  },
  {
   "cell_type": "code",
   "execution_count": 4,
   "metadata": {},
   "outputs": [
    {
     "data": {
      "text/plain": [
       "eval_dice (generic function with 1 method)"
      ]
     },
     "execution_count": 4,
     "metadata": {},
     "output_type": "execute_result"
    }
   ],
   "source": [
    "function eval_dice(x)\n",
    "    set_param!(m_opt, :emissions, :MIU, x)\n",
    "    run(m_opt)\n",
    "    return -m_opt[:welfare, :UTILITY]\n",
    "end"
   ]
  },
  {
   "cell_type": "markdown",
   "metadata": {},
   "source": [
    "To run the actual optimization, we simply call the function `bboptimize` from BlackBoxOptim.jl, and pass it the function we just created, plus some configuration parameters. In particular, we bound our choice variables between 0 and 1 using `SearchRange`, and set the number of choice variables to 60, i.e. the number of time periods in our model, using `NumDimensions`."
   ]
  },
  {
   "cell_type": "code",
   "execution_count": 5,
   "metadata": {},
   "outputs": [
    {
     "name": "stdout",
     "output_type": "stream",
     "text": [
      "Starting optimization with optimizer DiffEvoOpt{FitPopulation{Float64},RadiusLimitedSelector,BlackBoxOptim.AdaptiveDiffEvoRandBin{3},RandomBound{ContinuousRectSearchSpace}}\n",
      "0.00 secs, 0 evals, 0 steps\n",
      "0.50 secs, 251 evals, 161 steps, improv/step: 0.391 (last = 0.3913), fitness=-2258.614551187\n",
      "1.00 secs, 599 evals, 485 steps, improv/step: 0.412 (last = 0.4228), fitness=-2259.285335323\n",
      "1.51 secs, 995 evals, 877 steps, improv/step: 0.374 (last = 0.3265), fitness=-2260.700866225\n",
      "2.01 secs, 1366 evals, 1248 steps, improv/step: 0.356 (last = 0.3127), fitness=-2261.388128571\n",
      "2.51 secs, 1754 evals, 1636 steps, improv/step: 0.351 (last = 0.3376), fitness=-2261.724808986\n",
      "3.01 secs, 2152 evals, 2034 steps, improv/step: 0.345 (last = 0.3166), fitness=-2262.354776871\n",
      "3.51 secs, 2550 evals, 2432 steps, improv/step: 0.343 (last = 0.3367), fitness=-2262.355497164\n",
      "4.01 secs, 2942 evals, 2824 steps, improv/step: 0.335 (last = 0.2806), fitness=-2262.493964831\n",
      "4.51 secs, 3338 evals, 3220 steps, improv/step: 0.325 (last = 0.2601), fitness=-2262.641117938\n",
      "5.01 secs, 3734 evals, 3616 steps, improv/step: 0.316 (last = 0.2399), fitness=-2262.821057929\n",
      "5.51 secs, 4126 evals, 4008 steps, improv/step: 0.314 (last = 0.2959), fitness=-2262.823304590\n",
      "6.01 secs, 4508 evals, 4390 steps, improv/step: 0.307 (last = 0.2356), fitness=-2262.935095778\n",
      "6.52 secs, 4893 evals, 4775 steps, improv/step: 0.305 (last = 0.2831), fitness=-2263.056786344\n",
      "7.02 secs, 5275 evals, 5157 steps, improv/step: 0.301 (last = 0.2513), fitness=-2263.161670826\n",
      "7.52 secs, 5659 evals, 5541 steps, improv/step: 0.298 (last = 0.2474), fitness=-2263.171934072\n",
      "8.02 secs, 6054 evals, 5936 steps, improv/step: 0.294 (last = 0.2506), fitness=-2263.203826956\n",
      "8.52 secs, 6437 evals, 6319 steps, improv/step: 0.291 (last = 0.2376), fitness=-2263.229594228\n",
      "9.02 secs, 6818 evals, 6700 steps, improv/step: 0.287 (last = 0.2152), fitness=-2263.246364662\n",
      "9.53 secs, 7207 evals, 7089 steps, improv/step: 0.281 (last = 0.1902), fitness=-2263.307556764\n",
      "10.03 secs, 7605 evals, 7487 steps, improv/step: 0.279 (last = 0.2337), fitness=-2263.313771184\n",
      "10.53 secs, 8004 evals, 7886 steps, improv/step: 0.277 (last = 0.2381), fitness=-2263.345656247\n",
      "11.03 secs, 8389 evals, 8271 steps, improv/step: 0.274 (last = 0.2156), fitness=-2263.363768117\n",
      "11.53 secs, 8782 evals, 8664 steps, improv/step: 0.272 (last = 0.2290), fitness=-2263.379348950\n",
      "12.04 secs, 9176 evals, 9058 steps, improv/step: 0.270 (last = 0.2360), fitness=-2263.391878239\n",
      "12.54 secs, 9570 evals, 9452 steps, improv/step: 0.269 (last = 0.2411), fitness=-2263.405512582\n",
      "13.04 secs, 9964 evals, 9846 steps, improv/step: 0.267 (last = 0.2081), fitness=-2263.425955156\n",
      "13.54 secs, 10358 evals, 10240 steps, improv/step: 0.264 (last = 0.1980), fitness=-2263.440984460\n",
      "14.04 secs, 10752 evals, 10634 steps, improv/step: 0.263 (last = 0.2462), fitness=-2263.441752105\n",
      "14.54 secs, 11149 evals, 11031 steps, improv/step: 0.262 (last = 0.2217), fitness=-2263.451339906\n",
      "15.04 secs, 11531 evals, 11413 steps, improv/step: 0.260 (last = 0.1990), fitness=-2263.456560295\n",
      "15.54 secs, 11908 evals, 11790 steps, improv/step: 0.257 (last = 0.1777), fitness=-2263.465767752\n",
      "16.05 secs, 12289 evals, 12171 steps, improv/step: 0.257 (last = 0.2467), fitness=-2263.468590105\n",
      "16.55 secs, 12686 evals, 12568 steps, improv/step: 0.256 (last = 0.2343), fitness=-2263.471151818\n",
      "17.05 secs, 13069 evals, 12951 steps, improv/step: 0.255 (last = 0.2089), fitness=-2263.476524074\n",
      "17.55 secs, 13465 evals, 13347 steps, improv/step: 0.253 (last = 0.2071), fitness=-2263.476889510\n",
      "18.06 secs, 13861 evals, 13743 steps, improv/step: 0.252 (last = 0.2247), fitness=-2263.479924707\n",
      "18.56 secs, 14257 evals, 14139 steps, improv/step: 0.252 (last = 0.2348), fitness=-2263.483054486\n",
      "19.07 secs, 14653 evals, 14535 steps, improv/step: 0.251 (last = 0.2045), fitness=-2263.484625029\n",
      "19.57 secs, 15040 evals, 14922 steps, improv/step: 0.248 (last = 0.1447), fitness=-2263.485261874\n",
      "20.07 secs, 15418 evals, 15300 steps, improv/step: 0.246 (last = 0.1772), fitness=-2263.488926242\n",
      "20.57 secs, 15798 evals, 15680 steps, improv/step: 0.245 (last = 0.1789), fitness=-2263.489302744\n",
      "21.07 secs, 16180 evals, 16062 steps, improv/step: 0.243 (last = 0.1832), fitness=-2263.490236897\n",
      "21.57 secs, 16556 evals, 16438 steps, improv/step: 0.243 (last = 0.2314), fitness=-2263.494484773\n",
      "22.07 secs, 16941 evals, 16823 steps, improv/step: 0.241 (last = 0.1455), fitness=-2263.494719793\n",
      "22.58 secs, 17340 evals, 17222 steps, improv/step: 0.239 (last = 0.1729), fitness=-2263.495593659\n",
      "23.08 secs, 17740 evals, 17622 steps, improv/step: 0.238 (last = 0.1750), fitness=-2263.496289942\n",
      "23.58 secs, 18121 evals, 18003 steps, improv/step: 0.236 (last = 0.1654), fitness=-2263.497493218\n",
      "24.08 secs, 18521 evals, 18403 steps, improv/step: 0.235 (last = 0.1925), fitness=-2263.501062340\n",
      "24.58 secs, 18918 evals, 18800 steps, improv/step: 0.234 (last = 0.1763), fitness=-2263.501149927\n",
      "25.08 secs, 19317 evals, 19199 steps, improv/step: 0.234 (last = 0.2256), fitness=-2263.501273456\n",
      "25.58 secs, 19713 evals, 19595 steps, improv/step: 0.233 (last = 0.2045), fitness=-2263.502859681\n",
      "26.08 secs, 20112 evals, 19994 steps, improv/step: 0.233 (last = 0.2080), fitness=-2263.503470908\n",
      "\n",
      "Optimization stopped after 20001 steps and 26.11 seconds\n",
      "Termination reason: Max number of steps (20000) reached\n",
      "Steps per second = 765.94\n",
      "Function evals per second = 770.46\n",
      "Improvements/step = 0.23255\n",
      "Total function evaluations = 20119\n",
      "\n",
      "\n",
      "Best candidate found: [0.000471781, 0.185048, 0.25435, 0.298102, 0.360963, 0.411907, 0.473638, 0.529332, 0.613697, 0.674731, 0.740234, 0.816376, 0.880573, 0.896521, 0.932867, 0.990701, 0.996389, 0.994664, 0.999871, 0.993807, 0.997758, 0.999102, 0.998533, 0.997601, 0.997843, 0.999987, 0.995756, 0.999975, 0.998419, 0.991417, 0.989662, 0.999053, 0.994968, 0.99092, 0.966216, 0.95767, 0.999053, 0.812019, 0.410695, 0.404322, 0.0891384, 0.732883, 0.678674, 0.600325, 0.69589, 0.503945, 0.71423, 0.304039, 0.812722, 0.124003, 0.411758, 0.0224601, 0.12474, 0.472532, 0.515352, 0.537186, 0.580795, 0.92506, 0.665944, 0.718772]\n",
      "\n",
      "Fitness: -2263.503470908\n",
      "\n"
     ]
    },
    {
     "data": {
      "text/plain": [
       "BlackBoxOptim.OptimizationResults(\"adaptive_de_rand_1_bin_radiuslimited\", \"Max number of steps (20000) reached\", 20001, 1.569373542216e9, 26.11299991607666, DictChain{Symbol,Any}[DictChain{Symbol,Any}[Dict{Symbol,Any}(:RngSeed => 942243,:NumDimensions => 60,:SearchRange => (0.0, 1.0),:Method => :adaptive_de_rand_1_bin_radiuslimited,:MaxSteps => 20000),Dict{Symbol,Any}()],Dict{Symbol,Any}(:FitnessScheme => ScalarFitnessScheme{true}(),:NumDimensions => :NotSpecified,:PopulationSize => 50,:MaxTime => 0.0,:SearchRange => (-1.0, 1.0),:Method => :adaptive_de_rand_1_bin_radiuslimited,:MaxNumStepsWithoutFuncEvals => 100,:RngSeed => 1234,:MaxFuncEvals => 0,:SaveTrace => false…)], 20119, ScalarFitnessScheme{true}(), BlackBoxOptim.TopListArchiveOutput{Float64,Array{Float64,1}}(-2263.503470908036, [0.0004717808885438818, 0.18504818394764463, 0.25435015822766927, 0.2981016764479898, 0.3609626293522561, 0.41190705610812717, 0.47363812396935445, 0.5293322390802659, 0.6136967317506739, 0.6747306010840293  …  0.4117576459473312, 0.02246010591265987, 0.12473993386461511, 0.4725316260390361, 0.5153519936815887, 0.5371862102212026, 0.5807951151097508, 0.9250602576217978, 0.6659435377345856, 0.718772178512015]), BlackBoxOptim.PopulationOptimizerOutput{FitPopulation{Float64}}(FitPopulation{Float64}([0.0066553384300952175 0.007268207057300546 … 0.0027280793852433997 0.0025979895452742045; 0.1837670133989551 0.19074186376064992 … 0.1864196223110224 0.1841239088370301; … ; 0.8415662301248535 0.5643320198177577 … 0.7277617495570257 0.8604162991145954; 0.7184329317930305 0.50323736765881 … 0.3620933111805431 0.6188151167831872], NaN, [-2263.5010516891157, -2263.497116359286, -2263.498991666542, -2263.500339343777, -2263.500494358165, -2263.499379838718, -2263.500789884122, -2263.5002462510442, -2263.5003238992763, -2263.5002075569905  …  -2263.49870315663, -2263.496836141732, -2263.499643628969, -2263.4988394752368, -2263.501305803991, -2263.4996614786555, -2263.4977938300694, -2263.499329352779, -2263.50255641945, -2263.500324987763], 0, BlackBoxOptim.Candidate{Float64}[BlackBoxOptim.Candidate{Float64}([0.00697123005571614, 0.1874487846504052, 0.2489742024515849, 0.30064758670824365, 0.35819917048299826, 0.419963267040107, 0.46743237330270265, 0.5377862747927292, 0.6113503915015069, 0.6728120418705292  …  0.5401188272590506, 0.13628452941317126, 0.6120557256940985, 0.8533821158763084, 0.5880181735767729, 0.3441603176064165, 0.8954888807589896, 0.9062642972081455, 0.7834171244494195, 0.23687954976161224], 9, -2263.5003238992763, BlackBoxOptim.AdaptiveDiffEvoRandBin{3}(BlackBoxOptim.AdaptiveDiffEvoParameters(BlackBoxOptim.BimodalCauchy(Distributions.Cauchy{Float64}(μ=0.65, σ=0.1), Distributions.Cauchy{Float64}(μ=1.0, σ=0.1), 0.5, false, true), BlackBoxOptim.BimodalCauchy(Distributions.Cauchy{Float64}(μ=0.1, σ=0.1), Distributions.Cauchy{Float64}(μ=0.95, σ=0.1), 0.5, false, true), [1.0, 0.6296296709390969, 0.6569421062696863, 0.6878187732565125, 0.7326484990370481, 0.912941797372348, 1.0, 0.7404147978856787, 1.0, 0.43339354317692474  …  1.0, 0.9096949561202664, 0.3884642445289012, 0.6591932475805401, 1.0, 0.4857371373396283, 0.5696160741561611, 1.0, 0.6167300217497932, 1.0], [0.9577601116508526, 0.8515075519068818, 0.13437403101093243, 1.0, 0.2657582606014805, 1.0, 0.12737563741231564, 0.9761591348586711, 0.13856249401670392, 0.8099300956931089  …  0.03261911841884976, 0.11286271438696445, 0.5486827681277162, 0.812748063698304, 0.07500649738335313, 1.0, 0.028206540502021413, 0.18826145148523282, 1.0, 1.0])), 0), BlackBoxOptim.Candidate{Float64}([0.0064687231130303785, 0.1874487846504052, 0.25144278543463067, 0.2983752258470147, 0.3582895444591286, 0.419963267040107, 0.46588909282534746, 0.5301691476605118, 0.6175578280243726, 0.6735244088333165  …  0.4173176385542935, 0.4403995953338247, 0.6120557256940985, 0.9276692030086456, 0.5155039391429409, 0.20790647370608875, 0.6839498905457837, 0.8432904975309178, 0.7727471533665384, 0.33080753927485396], 9, -2263.4980079330276, BlackBoxOptim.AdaptiveDiffEvoRandBin{3}(BlackBoxOptim.AdaptiveDiffEvoParameters(BlackBoxOptim.BimodalCauchy(Distributions.Cauchy{Float64}(μ=0.65, σ=0.1), Distributions.Cauchy{Float64}(μ=1.0, σ=0.1), 0.5, false, true), BlackBoxOptim.BimodalCauchy(Distributions.Cauchy{Float64}(μ=0.1, σ=0.1), Distributions.Cauchy{Float64}(μ=0.95, σ=0.1), 0.5, false, true), [1.0, 0.6296296709390969, 0.6569421062696863, 0.6878187732565125, 0.7326484990370481, 0.912941797372348, 1.0, 0.7404147978856787, 1.0, 0.43339354317692474  …  1.0, 0.9096949561202664, 0.3884642445289012, 0.6591932475805401, 1.0, 0.4857371373396283, 0.5696160741561611, 1.0, 0.6167300217497932, 1.0], [0.9577601116508526, 0.8515075519068818, 0.13437403101093243, 1.0, 0.2657582606014805, 1.0, 0.12737563741231564, 0.9761591348586711, 0.13856249401670392, 0.8099300956931089  …  0.03261911841884976, 0.11286271438696445, 0.5486827681277162, 0.812748063698304, 0.07500649738335313, 1.0, 0.028206540502021413, 0.18826145148523282, 1.0, 1.0])), 0)])))"
      ]
     },
     "execution_count": 5,
     "metadata": {},
     "output_type": "execute_result"
    }
   ],
   "source": [
    "res = bboptimize(eval_dice; SearchRange=(0., 1.0), NumDimensions=60, Method=:adaptive_de_rand_1_bin_radiuslimited, MaxSteps=20_000)"
   ]
  },
  {
   "cell_type": "markdown",
   "metadata": {},
   "source": [
    "We can obtain the value of the emission control vector for the best policy that the solver found by calling the `best_candidate` function from the BlackBoxOptim package."
   ]
  },
  {
   "cell_type": "code",
   "execution_count": 6,
   "metadata": {},
   "outputs": [
    {
     "data": {
      "text/plain": [
       "60-element Array{Float64,1}:\n",
       " 0.0004717808885438818\n",
       " 0.18504818394764463  \n",
       " 0.25435015822766927  \n",
       " 0.2981016764479898   \n",
       " 0.3609626293522561   \n",
       " 0.41190705610812717  \n",
       " 0.47363812396935445  \n",
       " 0.5293322390802659   \n",
       " 0.6136967317506739   \n",
       " 0.6747306010840293   \n",
       " 0.7402335756406964   \n",
       " 0.8163763159361425   \n",
       " 0.8805733016332484   \n",
       " ⋮                    \n",
       " 0.8127220228985668   \n",
       " 0.12400319300819601  \n",
       " 0.4117576459473312   \n",
       " 0.02246010591265987  \n",
       " 0.12473993386461511  \n",
       " 0.4725316260390361   \n",
       " 0.5153519936815887   \n",
       " 0.5371862102212026   \n",
       " 0.5807951151097508   \n",
       " 0.9250602576217978   \n",
       " 0.6659435377345856   \n",
       " 0.718772178512015    "
      ]
     },
     "execution_count": 6,
     "metadata": {},
     "output_type": "execute_result"
    }
   ],
   "source": [
    "best_candidate(res)"
   ]
  },
  {
   "cell_type": "markdown",
   "metadata": {},
   "source": [
    "Let's actually set the parameter for the emission control rate in our model instance to that best policy that the solver found by calling `set_param!` one more time. We can then rerun the model, and at this point our model has the values for all variables for the optimal policy."
   ]
  },
  {
   "cell_type": "code",
   "execution_count": 7,
   "metadata": {},
   "outputs": [],
   "source": [
    "set_param!(m_opt, :emissions, :MIU, best_candidate(res))\n",
    "run(m_opt)"
   ]
  },
  {
   "cell_type": "markdown",
   "metadata": {},
   "source": [
    "We can now plot the business as usual policy and compare it with the optimal policy our solver found:"
   ]
  },
  {
   "cell_type": "code",
   "execution_count": 8,
   "metadata": {},
   "outputs": [
    {
     "data": {
      "application/vnd.vegalite.v3+json": {
       "hconcat": [
        {
         "$schema": "https://vega.github.io/schema/vega-lite/v3.json",
         "data": {
          "values": [
           {
            "MIU": "0.001",
            "time": "2005-01-01"
           },
           {
            "MIU": "0.001",
            "time": "2015-01-01"
           },
           {
            "MIU": "0.001",
            "time": "2025-01-01"
           },
           {
            "MIU": "0.001",
            "time": "2035-01-01"
           },
           {
            "MIU": "0.001",
            "time": "2045-01-01"
           },
           {
            "MIU": "0.001",
            "time": "2055-01-01"
           },
           {
            "MIU": "0.001",
            "time": "2065-01-01"
           },
           {
            "MIU": "0.001",
            "time": "2075-01-01"
           },
           {
            "MIU": "0.001",
            "time": "2085-01-01"
           },
           {
            "MIU": "0.001",
            "time": "2095-01-01"
           },
           {
            "MIU": "0.001",
            "time": "2105-01-01"
           },
           {
            "MIU": "0.001",
            "time": "2115-01-01"
           },
           {
            "MIU": "0.001",
            "time": "2125-01-01"
           },
           {
            "MIU": "0.001",
            "time": "2135-01-01"
           },
           {
            "MIU": "0.001",
            "time": "2145-01-01"
           },
           {
            "MIU": "0.001",
            "time": "2155-01-01"
           },
           {
            "MIU": "0.001",
            "time": "2165-01-01"
           },
           {
            "MIU": "0.001",
            "time": "2175-01-01"
           },
           {
            "MIU": "0.001",
            "time": "2185-01-01"
           },
           {
            "MIU": "0.001",
            "time": "2195-01-01"
           },
           {
            "MIU": "0.001",
            "time": "2205-01-01"
           },
           {
            "MIU": "0.001",
            "time": "2215-01-01"
           },
           {
            "MIU": "0.001",
            "time": "2225-01-01"
           },
           {
            "MIU": "0.001",
            "time": "2235-01-01"
           },
           {
            "MIU": "0.001",
            "time": "2245-01-01"
           },
           {
            "MIU": "1.0",
            "time": "2255-01-01"
           },
           {
            "MIU": "1.0",
            "time": "2265-01-01"
           },
           {
            "MIU": "1.0",
            "time": "2275-01-01"
           },
           {
            "MIU": "1.0",
            "time": "2285-01-01"
           },
           {
            "MIU": "1.0",
            "time": "2295-01-01"
           },
           {
            "MIU": "1.0",
            "time": "2305-01-01"
           },
           {
            "MIU": "1.0",
            "time": "2315-01-01"
           },
           {
            "MIU": "1.0",
            "time": "2325-01-01"
           },
           {
            "MIU": "1.0",
            "time": "2335-01-01"
           },
           {
            "MIU": "1.0",
            "time": "2345-01-01"
           },
           {
            "MIU": "1.0",
            "time": "2355-01-01"
           },
           {
            "MIU": "1.0",
            "time": "2365-01-01"
           },
           {
            "MIU": "1.0",
            "time": "2375-01-01"
           },
           {
            "MIU": "1.0",
            "time": "2385-01-01"
           },
           {
            "MIU": "1.0",
            "time": "2395-01-01"
           },
           {
            "MIU": "1.0",
            "time": "2405-01-01"
           },
           {
            "MIU": "1.0",
            "time": "2415-01-01"
           },
           {
            "MIU": "1.0",
            "time": "2425-01-01"
           },
           {
            "MIU": "1.0",
            "time": "2435-01-01"
           },
           {
            "MIU": "1.0",
            "time": "2445-01-01"
           },
           {
            "MIU": "1.0",
            "time": "2455-01-01"
           },
           {
            "MIU": "1.0",
            "time": "2465-01-01"
           },
           {
            "MIU": "1.0",
            "time": "2475-01-01"
           },
           {
            "MIU": "1.0",
            "time": "2485-01-01"
           },
           {
            "MIU": "1.0",
            "time": "2495-01-01"
           },
           {
            "MIU": "1.0",
            "time": "2505-01-01"
           },
           {
            "MIU": "1.0",
            "time": "2515-01-01"
           },
           {
            "MIU": "1.0",
            "time": "2525-01-01"
           },
           {
            "MIU": "1.0",
            "time": "2535-01-01"
           },
           {
            "MIU": "1.0",
            "time": "2545-01-01"
           },
           {
            "MIU": "1.0",
            "time": "2555-01-01"
           },
           {
            "MIU": "1.0",
            "time": "2565-01-01"
           },
           {
            "MIU": "1.0",
            "time": "2575-01-01"
           },
           {
            "MIU": "1.0",
            "time": "2585-01-01"
           },
           {
            "MIU": "1.0",
            "time": "2595-01-01"
           }
          ]
         },
         "description": "plot for a specific component variable pair",
         "encoding": {
          "x": {
           "field": "time",
           "timeUnit": "utcyear",
           "type": "temporal"
          },
          "y": {
           "field": "MIU",
           "type": "quantitative"
          }
         },
         "height": 410,
         "mark": {
          "type": "line"
         },
         "title": "emissions : MIU",
         "width": 450
        },
        {
         "$schema": "https://vega.github.io/schema/vega-lite/v3.json",
         "data": {
          "values": [
           {
            "MIU": "0.0004717808885438818",
            "time": "2005-01-01"
           },
           {
            "MIU": "0.18504818394764463",
            "time": "2015-01-01"
           },
           {
            "MIU": "0.25435015822766927",
            "time": "2025-01-01"
           },
           {
            "MIU": "0.2981016764479898",
            "time": "2035-01-01"
           },
           {
            "MIU": "0.3609626293522561",
            "time": "2045-01-01"
           },
           {
            "MIU": "0.41190705610812717",
            "time": "2055-01-01"
           },
           {
            "MIU": "0.47363812396935445",
            "time": "2065-01-01"
           },
           {
            "MIU": "0.5293322390802659",
            "time": "2075-01-01"
           },
           {
            "MIU": "0.6136967317506739",
            "time": "2085-01-01"
           },
           {
            "MIU": "0.6747306010840293",
            "time": "2095-01-01"
           },
           {
            "MIU": "0.7402335756406964",
            "time": "2105-01-01"
           },
           {
            "MIU": "0.8163763159361425",
            "time": "2115-01-01"
           },
           {
            "MIU": "0.8805733016332484",
            "time": "2125-01-01"
           },
           {
            "MIU": "0.8965213836845007",
            "time": "2135-01-01"
           },
           {
            "MIU": "0.9328674707833478",
            "time": "2145-01-01"
           },
           {
            "MIU": "0.9907008366144655",
            "time": "2155-01-01"
           },
           {
            "MIU": "0.9963888645973539",
            "time": "2165-01-01"
           },
           {
            "MIU": "0.9946635505863496",
            "time": "2175-01-01"
           },
           {
            "MIU": "0.9998706019829345",
            "time": "2185-01-01"
           },
           {
            "MIU": "0.9938070090149927",
            "time": "2195-01-01"
           },
           {
            "MIU": "0.9977575712387917",
            "time": "2205-01-01"
           },
           {
            "MIU": "0.9991020553414947",
            "time": "2215-01-01"
           },
           {
            "MIU": "0.9985333316265346",
            "time": "2225-01-01"
           },
           {
            "MIU": "0.997601292350016",
            "time": "2235-01-01"
           },
           {
            "MIU": "0.9978430038036599",
            "time": "2245-01-01"
           },
           {
            "MIU": "0.999986545667836",
            "time": "2255-01-01"
           },
           {
            "MIU": "0.995755988485494",
            "time": "2265-01-01"
           },
           {
            "MIU": "0.9999745415419982",
            "time": "2275-01-01"
           },
           {
            "MIU": "0.9984185675148055",
            "time": "2285-01-01"
           },
           {
            "MIU": "0.9914167980703718",
            "time": "2295-01-01"
           },
           {
            "MIU": "0.9896616716305903",
            "time": "2305-01-01"
           },
           {
            "MIU": "0.9990532118831601",
            "time": "2315-01-01"
           },
           {
            "MIU": "0.9949682738447245",
            "time": "2325-01-01"
           },
           {
            "MIU": "0.9909204108218876",
            "time": "2335-01-01"
           },
           {
            "MIU": "0.9662159536261752",
            "time": "2345-01-01"
           },
           {
            "MIU": "0.9576695143024566",
            "time": "2355-01-01"
           },
           {
            "MIU": "0.9990529339527936",
            "time": "2365-01-01"
           },
           {
            "MIU": "0.812018529245717",
            "time": "2375-01-01"
           },
           {
            "MIU": "0.410695062963661",
            "time": "2385-01-01"
           },
           {
            "MIU": "0.4043219603275827",
            "time": "2395-01-01"
           },
           {
            "MIU": "0.08913843196779155",
            "time": "2405-01-01"
           },
           {
            "MIU": "0.7328832876576383",
            "time": "2415-01-01"
           },
           {
            "MIU": "0.6786736410877909",
            "time": "2425-01-01"
           },
           {
            "MIU": "0.6003245829504371",
            "time": "2435-01-01"
           },
           {
            "MIU": "0.6958898020613011",
            "time": "2445-01-01"
           },
           {
            "MIU": "0.5039453735072491",
            "time": "2455-01-01"
           },
           {
            "MIU": "0.714229827310411",
            "time": "2465-01-01"
           },
           {
            "MIU": "0.3040392357975403",
            "time": "2475-01-01"
           },
           {
            "MIU": "0.8127220228985668",
            "time": "2485-01-01"
           },
           {
            "MIU": "0.12400319300819601",
            "time": "2495-01-01"
           },
           {
            "MIU": "0.4117576459473312",
            "time": "2505-01-01"
           },
           {
            "MIU": "0.02246010591265987",
            "time": "2515-01-01"
           },
           {
            "MIU": "0.12473993386461511",
            "time": "2525-01-01"
           },
           {
            "MIU": "0.4725316260390361",
            "time": "2535-01-01"
           },
           {
            "MIU": "0.5153519936815887",
            "time": "2545-01-01"
           },
           {
            "MIU": "0.5371862102212026",
            "time": "2555-01-01"
           },
           {
            "MIU": "0.5807951151097508",
            "time": "2565-01-01"
           },
           {
            "MIU": "0.9250602576217978",
            "time": "2575-01-01"
           },
           {
            "MIU": "0.6659435377345856",
            "time": "2585-01-01"
           },
           {
            "MIU": "0.718772178512015",
            "time": "2595-01-01"
           }
          ]
         },
         "description": "plot for a specific component variable pair",
         "encoding": {
          "x": {
           "field": "time",
           "timeUnit": "utcyear",
           "type": "temporal"
          },
          "y": {
           "field": "MIU",
           "type": "quantitative"
          }
         },
         "height": 410,
         "mark": {
          "type": "line"
         },
         "title": "emissions : MIU",
         "width": 450
        }
       ],
       "resolve": {
        "scale": {
         "y": "shared"
        }
       }
      },
      "image/png": "[encoded data removed]",
      "image/svg+xml": [
       "<svg class=\"marks\" width=\"1008\" height=\"476\" viewBox=\"0 0 1008 476\" version=\"1.1\" xmlns=\"http://www.w3.org/2000/svg\" xmlns:xlink=\"http://www.w3.org/1999/xlink\"><g transform=\"translate(41,28)\"><g class=\"mark-group role-frame root\"><g transform=\"translate(0,0)\"><path class=\"background\" d=\"M0,0h0v410h0Z\" style=\"fill: none;\"></path><g><g class=\"mark-group role-scope concat_0_group\"><g transform=\"translate(0,0)\"><path class=\"background\" d=\"M0.5,0.5h450v410h-450Z\" style=\"fill: none; stroke: #ddd;\"></path><g><g class=\"mark-group role-axis\"><g transform=\"translate(0.5,410.5)\"><path class=\"background\" d=\"M0,0h0v0h0Z\" style=\"pointer-events: none; fill: none;\"></path><g><g class=\"mark-rule role-axis-grid\" style=\"pointer-events: none;\"><line transform=\"translate(34,-410)\" x2=\"0\" y2=\"410\" style=\"fill: none; stroke: #ddd; stroke-width: 1; opacity: 1;\"></line><line transform=\"translate(72,-410)\" x2=\"0\" y2=\"410\" style=\"fill: none; stroke: #ddd; stroke-width: 1; opacity: 1;\"></line><line transform=\"translate(111,-410)\" x2=\"0\" y2=\"410\" style=\"fill: none; stroke: #ddd; stroke-width: 1; opacity: 1;\"></line><line transform=\"translate(149,-410)\" x2=\"0\" y2=\"410\" style=\"fill: none; stroke: #ddd; stroke-width: 1; opacity: 1;\"></line><line transform=\"translate(187,-410)\" x2=\"0\" y2=\"410\" style=\"fill: none; stroke: #ddd; stroke-width: 1; opacity: 1;\"></line><line transform=\"translate(225,-410)\" x2=\"0\" y2=\"410\" style=\"fill: none; stroke: #ddd; stroke-width: 1; opacity: 1;\"></line><line transform=\"translate(263,-410)\" x2=\"0\" y2=\"410\" style=\"fill: none; stroke: #ddd; stroke-width: 1; opacity: 1;\"></line><line transform=\"translate(301,-410)\" x2=\"0\" y2=\"410\" style=\"fill: none; stroke: #ddd; stroke-width: 1; opacity: 1;\"></line><line transform=\"translate(339,-410)\" x2=\"0\" y2=\"410\" style=\"fill: none; stroke: #ddd; stroke-width: 1; opacity: 1;\"></line><line transform=\"translate(378,-410)\" x2=\"0\" y2=\"410\" style=\"fill: none; stroke: #ddd; stroke-width: 1; opacity: 1;\"></line><line transform=\"translate(416,-410)\" x2=\"0\" y2=\"410\" style=\"fill: none; stroke: #ddd; stroke-width: 1; opacity: 1;\"></line></g></g></g></g><g class=\"mark-group role-axis\"><g transform=\"translate(0.5,0.5)\"><path class=\"background\" d=\"M0,0h0v0h0Z\" style=\"pointer-events: none; fill: none;\"></path><g><g class=\"mark-rule role-axis-grid\" style=\"pointer-events: none;\"><line transform=\"translate(0,410)\" x2=\"450\" y2=\"0\" style=\"fill: none; stroke: #ddd; stroke-width: 1; opacity: 1;\"></line><line transform=\"translate(0,369)\" x2=\"450\" y2=\"0\" style=\"fill: none; stroke: #ddd; stroke-width: 1; opacity: 1;\"></line><line transform=\"translate(0,328)\" x2=\"450\" y2=\"0\" style=\"fill: none; stroke: #ddd; stroke-width: 1; opacity: 1;\"></line><line transform=\"translate(0,287)\" x2=\"450\" y2=\"0\" style=\"fill: none; stroke: #ddd; stroke-width: 1; opacity: 1;\"></line><line transform=\"translate(0,246)\" x2=\"450\" y2=\"0\" style=\"fill: none; stroke: #ddd; stroke-width: 1; opacity: 1;\"></line><line transform=\"translate(0,205)\" x2=\"450\" y2=\"0\" style=\"fill: none; stroke: #ddd; stroke-width: 1; opacity: 1;\"></line><line transform=\"translate(0,164)\" x2=\"450\" y2=\"0\" style=\"fill: none; stroke: #ddd; stroke-width: 1; opacity: 1;\"></line><line transform=\"translate(0,123)\" x2=\"450\" y2=\"0\" style=\"fill: none; stroke: #ddd; stroke-width: 1; opacity: 1;\"></line><line transform=\"translate(0,82)\" x2=\"450\" y2=\"0\" style=\"fill: none; stroke: #ddd; stroke-width: 1; opacity: 1;\"></line><line transform=\"translate(0,41)\" x2=\"450\" y2=\"0\" style=\"fill: none; stroke: #ddd; stroke-width: 1; opacity: 1;\"></line><line transform=\"translate(0,0)\" x2=\"450\" y2=\"0\" style=\"fill: none; stroke: #ddd; stroke-width: 1; opacity: 1;\"></line></g></g></g></g><g class=\"mark-line role-mark concat_0_marks\"><path d=\"M450,0L442.37376620122234,0L434.74544416756,0L427.11921036878226,0L419.4908883351199,0L411.86465453634224,0L404.2363325026799,0L396.6100987039022,0L388.98177667023987,0L381.35554287146215,0L373.7293090726845,0L366.10307527390677,0L358.47475324024447,0L350.84851944146675,0L343.2201974078044,0L335.59396360902673,0L327.96564157536443,0L320.3394077765867,0L312.7110857429244,0L305.0848519441467,0L297.45652991048433,0L289.8302961117067,0L282.2019740780443,0L274.5757402792666,0L266.9474182456043,0L259.3211844468266,0L251.69286241316425,0L244.06662861438656,0L236.4383065807242,0L228.8120727819465,0L221.18583898316882,0L213.55960518439113,0L205.9312831507288,0L198.3050493519511,0L190.67672731828875,0L183.05049351951106,409.59L175.4221714858487,409.59L167.79593768707105,409.59L160.16761565340872,409.59L152.54138185463103,409.59L144.91514805585334,409.59L137.28891425707565,409.59L129.6605922234133,409.59L122.0343584246356,409.59L114.40603639097326,409.59L106.77980259219557,409.59L99.15148055853322,409.59L91.52524675975553,409.59L83.89692472609319,409.59L76.27069092731551,409.59L68.64445712853782,409.59L61.01822332976013,409.59L53.38990129609778,409.59L45.7636674973201,409.59L38.13534546365776,409.59L30.509111664880066,409.59L22.88078963121772,409.59L15.254555832440033,409.59L7.626233798777686,409.59L0,409.59\" style=\"fill: none; stroke: #4c78a8; stroke-width: 2;\"></path></g><g class=\"mark-text role-title\" style=\"pointer-events: none;\"><text text-anchor=\"middle\" transform=\"translate(225,-12)\" style=\"font-family: sans-serif; font-size: 13px; font-weight: bold; fill: #000; opacity: 1;\">emissions : MIU</text></g><g class=\"mark-group role-axis\"><g transform=\"translate(0.5,410.5)\"><path class=\"background\" d=\"M0,0h0v0h0Z\" style=\"pointer-events: none; fill: none;\"></path><g><g class=\"mark-rule role-axis-tick\" style=\"pointer-events: none;\"><line transform=\"translate(34,0)\" x2=\"0\" y2=\"5\" style=\"fill: none; stroke: #888; stroke-width: 1; opacity: 1;\"></line><line transform=\"translate(72,0)\" x2=\"0\" y2=\"5\" style=\"fill: none; stroke: #888; stroke-width: 1; opacity: 1;\"></line><line transform=\"translate(111,0)\" x2=\"0\" y2=\"5\" style=\"fill: none; stroke: #888; stroke-width: 1; opacity: 1;\"></line><line transform=\"translate(149,0)\" x2=\"0\" y2=\"5\" style=\"fill: none; stroke: #888; stroke-width: 1; opacity: 1;\"></line><line transform=\"translate(187,0)\" x2=\"0\" y2=\"5\" style=\"fill: none; stroke: #888; stroke-width: 1; opacity: 1;\"></line><line transform=\"translate(225,0)\" x2=\"0\" y2=\"5\" style=\"fill: none; stroke: #888; stroke-width: 1; opacity: 1;\"></line><line transform=\"translate(263,0)\" x2=\"0\" y2=\"5\" style=\"fill: none; stroke: #888; stroke-width: 1; opacity: 1;\"></line><line transform=\"translate(301,0)\" x2=\"0\" y2=\"5\" style=\"fill: none; stroke: #888; stroke-width: 1; opacity: 1;\"></line><line transform=\"translate(339,0)\" x2=\"0\" y2=\"5\" style=\"fill: none; stroke: #888; stroke-width: 1; opacity: 1;\"></line><line transform=\"translate(378,0)\" x2=\"0\" y2=\"5\" style=\"fill: none; stroke: #888; stroke-width: 1; opacity: 1;\"></line><line transform=\"translate(416,0)\" x2=\"0\" y2=\"5\" style=\"fill: none; stroke: #888; stroke-width: 1; opacity: 1;\"></line></g><g class=\"mark-text role-axis-label\" style=\"pointer-events: none;\"><text text-anchor=\"middle\" transform=\"translate(34.32222856426891,15)\" style=\"font-family: sans-serif; font-size: 10px; fill: #000; opacity: 1;\">2050</text><text text-anchor=\"middle\" transform=\"translate(72.45757402792667,15)\" style=\"font-family: sans-serif; font-size: 10px; fill: #000; opacity: 1;\">2100</text><text text-anchor=\"middle\" transform=\"translate(110.59291949158441,15)\" style=\"font-family: sans-serif; font-size: 10px; fill: #000; opacity: 1;\">2150</text><text text-anchor=\"middle\" transform=\"translate(148.72826495524217,15)\" style=\"font-family: sans-serif; font-size: 10px; fill: #000; opacity: 1;\">2200</text><text text-anchor=\"middle\" transform=\"translate(186.8636104188999,15)\" style=\"font-family: sans-serif; font-size: 10px; fill: #000; opacity: 1;\">2250</text><text text-anchor=\"middle\" transform=\"translate(224.99895588255768,15)\" style=\"font-family: sans-serif; font-size: 10px; fill: #000; opacity: 1;\">2300</text><text text-anchor=\"middle\" transform=\"translate(263.1343013462154,15)\" style=\"font-family: sans-serif; font-size: 10px; fill: #000; opacity: 1;\">2350</text><text text-anchor=\"middle\" transform=\"translate(301.26964680987317,15)\" style=\"font-family: sans-serif; font-size: 10px; fill: #000; opacity: 1;\">2400</text><text text-anchor=\"middle\" transform=\"translate(339.40708050841556,15)\" style=\"font-family: sans-serif; font-size: 10px; fill: #000; opacity: 1;\">2450</text><text text-anchor=\"middle\" transform=\"translate(377.5424259720734,15)\" style=\"font-family: sans-serif; font-size: 10px; fill: #000; opacity: 1;\">2500</text><text text-anchor=\"middle\" transform=\"translate(415.67777143573113,15)\" style=\"font-family: sans-serif; font-size: 10px; fill: #000; opacity: 1;\">2550</text></g><g class=\"mark-rule role-axis-domain\" style=\"pointer-events: none;\"><line transform=\"translate(0,0)\" x2=\"450\" y2=\"0\" style=\"fill: none; stroke: #888; stroke-width: 1; opacity: 1;\"></line></g><g class=\"mark-text role-axis-title\" style=\"pointer-events: none;\"><text text-anchor=\"middle\" transform=\"translate(225,30)\" style=\"font-family: sans-serif; font-size: 11px; font-weight: bold; fill: #000; opacity: 1;\">time (year)</text></g></g></g></g><g class=\"mark-group role-axis\"><g transform=\"translate(0.5,0.5)\"><path class=\"background\" d=\"M0,0h0v0h0Z\" style=\"pointer-events: none; fill: none;\"></path><g><g class=\"mark-rule role-axis-tick\" style=\"pointer-events: none;\"><line transform=\"translate(0,410)\" x2=\"-5\" y2=\"0\" style=\"fill: none; stroke: #888; stroke-width: 1; opacity: 1;\"></line><line transform=\"translate(0,369)\" x2=\"-5\" y2=\"0\" style=\"fill: none; stroke: #888; stroke-width: 1; opacity: 1;\"></line><line transform=\"translate(0,328)\" x2=\"-5\" y2=\"0\" style=\"fill: none; stroke: #888; stroke-width: 1; opacity: 1;\"></line><line transform=\"translate(0,287)\" x2=\"-5\" y2=\"0\" style=\"fill: none; stroke: #888; stroke-width: 1; opacity: 1;\"></line><line transform=\"translate(0,246)\" x2=\"-5\" y2=\"0\" style=\"fill: none; stroke: #888; stroke-width: 1; opacity: 1;\"></line><line transform=\"translate(0,205)\" x2=\"-5\" y2=\"0\" style=\"fill: none; stroke: #888; stroke-width: 1; opacity: 1;\"></line><line transform=\"translate(0,164)\" x2=\"-5\" y2=\"0\" style=\"fill: none; stroke: #888; stroke-width: 1; opacity: 1;\"></line><line transform=\"translate(0,123)\" x2=\"-5\" y2=\"0\" style=\"fill: none; stroke: #888; stroke-width: 1; opacity: 1;\"></line><line transform=\"translate(0,82)\" x2=\"-5\" y2=\"0\" style=\"fill: none; stroke: #888; stroke-width: 1; opacity: 1;\"></line><line transform=\"translate(0,41)\" x2=\"-5\" y2=\"0\" style=\"fill: none; stroke: #888; stroke-width: 1; opacity: 1;\"></line><line transform=\"translate(0,0)\" x2=\"-5\" y2=\"0\" style=\"fill: none; stroke: #888; stroke-width: 1; opacity: 1;\"></line></g><g class=\"mark-text role-axis-label\" style=\"pointer-events: none;\"><text text-anchor=\"end\" transform=\"translate(-7,413)\" style=\"font-family: sans-serif; font-size: 10px; fill: #000; opacity: 1;\">0.0</text><text text-anchor=\"end\" transform=\"translate(-7,372)\" style=\"font-family: sans-serif; font-size: 10px; fill: #000; opacity: 1;\">0.1</text><text text-anchor=\"end\" transform=\"translate(-7,331)\" style=\"font-family: sans-serif; font-size: 10px; fill: #000; opacity: 1;\">0.2</text><text text-anchor=\"end\" transform=\"translate(-7,290)\" style=\"font-family: sans-serif; font-size: 10px; fill: #000; opacity: 1;\">0.3</text><text text-anchor=\"end\" transform=\"translate(-7,249)\" style=\"font-family: sans-serif; font-size: 10px; fill: #000; opacity: 1;\">0.4</text><text text-anchor=\"end\" transform=\"translate(-7,208)\" style=\"font-family: sans-serif; font-size: 10px; fill: #000; opacity: 1;\">0.5</text><text text-anchor=\"end\" transform=\"translate(-7,167)\" style=\"font-family: sans-serif; font-size: 10px; fill: #000; opacity: 1;\">0.6</text><text text-anchor=\"end\" transform=\"translate(-7,126)\" style=\"font-family: sans-serif; font-size: 10px; fill: #000; opacity: 1;\">0.7</text><text text-anchor=\"end\" transform=\"translate(-7,85)\" style=\"font-family: sans-serif; font-size: 10px; fill: #000; opacity: 1;\">0.8</text><text text-anchor=\"end\" transform=\"translate(-7,44)\" style=\"font-family: sans-serif; font-size: 10px; fill: #000; opacity: 1;\">0.9</text><text text-anchor=\"end\" transform=\"translate(-7,3)\" style=\"font-family: sans-serif; font-size: 10px; fill: #000; opacity: 1;\">1.0</text></g><g class=\"mark-rule role-axis-domain\" style=\"pointer-events: none;\"><line transform=\"translate(0,410)\" x2=\"0\" y2=\"-410\" style=\"fill: none; stroke: #888; stroke-width: 1; opacity: 1;\"></line></g><g class=\"mark-text role-axis-title\" style=\"pointer-events: none;\"><text text-anchor=\"middle\" transform=\"translate(-24,205) rotate(-90) translate(0,-2)\" style=\"font-family: sans-serif; font-size: 11px; font-weight: bold; fill: #000; opacity: 1;\">MIU</text></g></g></g></g></g></g></g><g class=\"mark-group role-scope concat_1_group\"><g transform=\"translate(509,0)\"><path class=\"background\" d=\"M0.5,0.5h450v410h-450Z\" style=\"fill: none; stroke: #ddd;\"></path><g><g class=\"mark-group role-axis\"><g transform=\"translate(0.5,410.5)\"><path class=\"background\" d=\"M0,0h0v0h0Z\" style=\"pointer-events: none; fill: none;\"></path><g><g class=\"mark-rule role-axis-grid\" style=\"pointer-events: none;\"><line transform=\"translate(34,-410)\" x2=\"0\" y2=\"410\" style=\"fill: none; stroke: #ddd; stroke-width: 1; opacity: 1;\"></line><line transform=\"translate(72,-410)\" x2=\"0\" y2=\"410\" style=\"fill: none; stroke: #ddd; stroke-width: 1; opacity: 1;\"></line><line transform=\"translate(111,-410)\" x2=\"0\" y2=\"410\" style=\"fill: none; stroke: #ddd; stroke-width: 1; opacity: 1;\"></line><line transform=\"translate(149,-410)\" x2=\"0\" y2=\"410\" style=\"fill: none; stroke: #ddd; stroke-width: 1; opacity: 1;\"></line><line transform=\"translate(187,-410)\" x2=\"0\" y2=\"410\" style=\"fill: none; stroke: #ddd; stroke-width: 1; opacity: 1;\"></line><line transform=\"translate(225,-410)\" x2=\"0\" y2=\"410\" style=\"fill: none; stroke: #ddd; stroke-width: 1; opacity: 1;\"></line><line transform=\"translate(263,-410)\" x2=\"0\" y2=\"410\" style=\"fill: none; stroke: #ddd; stroke-width: 1; opacity: 1;\"></line><line transform=\"translate(301,-410)\" x2=\"0\" y2=\"410\" style=\"fill: none; stroke: #ddd; stroke-width: 1; opacity: 1;\"></line><line transform=\"translate(339,-410)\" x2=\"0\" y2=\"410\" style=\"fill: none; stroke: #ddd; stroke-width: 1; opacity: 1;\"></line><line transform=\"translate(378,-410)\" x2=\"0\" y2=\"410\" style=\"fill: none; stroke: #ddd; stroke-width: 1; opacity: 1;\"></line><line transform=\"translate(416,-410)\" x2=\"0\" y2=\"410\" style=\"fill: none; stroke: #ddd; stroke-width: 1; opacity: 1;\"></line></g></g></g></g><g class=\"mark-group role-axis\"><g transform=\"translate(0.5,0.5)\"><path class=\"background\" d=\"M0,0h0v0h0Z\" style=\"pointer-events: none; fill: none;\"></path><g><g class=\"mark-rule role-axis-grid\" style=\"pointer-events: none;\"><line transform=\"translate(0,410)\" x2=\"450\" y2=\"0\" style=\"fill: none; stroke: #ddd; stroke-width: 1; opacity: 1;\"></line><line transform=\"translate(0,369)\" x2=\"450\" y2=\"0\" style=\"fill: none; stroke: #ddd; stroke-width: 1; opacity: 1;\"></line><line transform=\"translate(0,328)\" x2=\"450\" y2=\"0\" style=\"fill: none; stroke: #ddd; stroke-width: 1; opacity: 1;\"></line><line transform=\"translate(0,287)\" x2=\"450\" y2=\"0\" style=\"fill: none; stroke: #ddd; stroke-width: 1; opacity: 1;\"></line><line transform=\"translate(0,246)\" x2=\"450\" y2=\"0\" style=\"fill: none; stroke: #ddd; stroke-width: 1; opacity: 1;\"></line><line transform=\"translate(0,205)\" x2=\"450\" y2=\"0\" style=\"fill: none; stroke: #ddd; stroke-width: 1; opacity: 1;\"></line><line transform=\"translate(0,164)\" x2=\"450\" y2=\"0\" style=\"fill: none; stroke: #ddd; stroke-width: 1; opacity: 1;\"></line><line transform=\"translate(0,123)\" x2=\"450\" y2=\"0\" style=\"fill: none; stroke: #ddd; stroke-width: 1; opacity: 1;\"></line><line transform=\"translate(0,82)\" x2=\"450\" y2=\"0\" style=\"fill: none; stroke: #ddd; stroke-width: 1; opacity: 1;\"></line><line transform=\"translate(0,41)\" x2=\"450\" y2=\"0\" style=\"fill: none; stroke: #ddd; stroke-width: 1; opacity: 1;\"></line><line transform=\"translate(0,0)\" x2=\"450\" y2=\"0\" style=\"fill: none; stroke: #ddd; stroke-width: 1; opacity: 1;\"></line></g></g></g></g><g class=\"mark-line role-mark concat_1_marks\"><path d=\"M450,115.30340681007385L442.37376620122234,136.96314952881988L434.74544416756,30.7252943750629L427.11921036878226,171.87400280500216L419.4908883351199,189.75365380930694L411.86465453634224,198.70568259054863L404.2363325026799,216.2620333239952L396.6100987039022,358.8566271155078L388.98177667023987,400.79135657580946L381.35554287146215,241.1793651615942L373.7293090726845,359.15869086663963L366.10307527390677,76.78397061158762L358.47475324024447,285.3439133230085L350.84851944146675,117.16577080273152L343.2201974078044,203.38239686202786L335.59396360902673,124.68518115486654L327.96564157536443,163.86692099032078L320.3394077765867,131.7438071540057L312.7110857429244,109.51785206036828L305.0848519441467,373.45324289320547L297.45652991048433,244.22799626569108L289.8302961117067,241.615024184899L282.2019740780443,77.07240300925599L274.5757402792666,0.3882970793546292L266.9474182456043,17.355499135992773L259.3211844468266,13.851459013268197L251.69286241316425,3.7226315630260842L244.06662861438656,2.063007723662963L236.4383065807242,0.3881831279043695L228.8120727819465,4.238714631457981L221.18583898316882,3.5191127911475633L213.55960518439113,0.6483873189297356L205.9312831507288,0.010437967780774215L198.3050493519511,1.7400447209474805L190.67672731828875,0.005516276187279345L183.05049351951106,0.8843684404994292L175.4221714858487,0.9834701364933949L167.79593768707105,0.6013340331208497L160.16761565340872,0.36815730998716845L152.54138185463103,0.9193957920953721L144.91514805585334,2.5391263038529814L137.28891425707565,0.05305318699686268L129.6605922234133,2.1879442595966907L122.0343584246356,1.4805655150848906L114.40603639097326,3.8126569880691363L106.77980259219557,27.52433697882742L99.15148055853322,42.42623268935472L91.52524675975553,48.96494633036815L83.89692472609319,75.28571046618157L76.27069092731551,106.50423398731448L68.64445712853782,133.36045355554802L61.01822332976013,158.3843399822237L53.38990129609778,192.97378197709097L45.7636674973201,215.80836917256468L38.13534546365776,241.11810699566786L30.509111664880066,262.00532196557504L22.88078963121772,287.7783126563242L15.254555832440033,305.7164351266556L7.626233798777686,334.1302445814657L0,409.806569835697\" style=\"fill: none; stroke: #4c78a8; stroke-width: 2;\"></path></g><g class=\"mark-text role-title\" style=\"pointer-events: none;\"><text text-anchor=\"middle\" transform=\"translate(225,-12)\" style=\"font-family: sans-serif; font-size: 13px; font-weight: bold; fill: #000; opacity: 1;\">emissions : MIU</text></g><g class=\"mark-group role-axis\"><g transform=\"translate(0.5,410.5)\"><path class=\"background\" d=\"M0,0h0v0h0Z\" style=\"pointer-events: none; fill: none;\"></path><g><g class=\"mark-rule role-axis-tick\" style=\"pointer-events: none;\"><line transform=\"translate(34,0)\" x2=\"0\" y2=\"5\" style=\"fill: none; stroke: #888; stroke-width: 1; opacity: 1;\"></line><line transform=\"translate(72,0)\" x2=\"0\" y2=\"5\" style=\"fill: none; stroke: #888; stroke-width: 1; opacity: 1;\"></line><line transform=\"translate(111,0)\" x2=\"0\" y2=\"5\" style=\"fill: none; stroke: #888; stroke-width: 1; opacity: 1;\"></line><line transform=\"translate(149,0)\" x2=\"0\" y2=\"5\" style=\"fill: none; stroke: #888; stroke-width: 1; opacity: 1;\"></line><line transform=\"translate(187,0)\" x2=\"0\" y2=\"5\" style=\"fill: none; stroke: #888; stroke-width: 1; opacity: 1;\"></line><line transform=\"translate(225,0)\" x2=\"0\" y2=\"5\" style=\"fill: none; stroke: #888; stroke-width: 1; opacity: 1;\"></line><line transform=\"translate(263,0)\" x2=\"0\" y2=\"5\" style=\"fill: none; stroke: #888; stroke-width: 1; opacity: 1;\"></line><line transform=\"translate(301,0)\" x2=\"0\" y2=\"5\" style=\"fill: none; stroke: #888; stroke-width: 1; opacity: 1;\"></line><line transform=\"translate(339,0)\" x2=\"0\" y2=\"5\" style=\"fill: none; stroke: #888; stroke-width: 1; opacity: 1;\"></line><line transform=\"translate(378,0)\" x2=\"0\" y2=\"5\" style=\"fill: none; stroke: #888; stroke-width: 1; opacity: 1;\"></line><line transform=\"translate(416,0)\" x2=\"0\" y2=\"5\" style=\"fill: none; stroke: #888; stroke-width: 1; opacity: 1;\"></line></g><g class=\"mark-text role-axis-label\" style=\"pointer-events: none;\"><text text-anchor=\"middle\" transform=\"translate(34.32222856426891,15)\" style=\"font-family: sans-serif; font-size: 10px; fill: #000; opacity: 1;\">2050</text><text text-anchor=\"middle\" transform=\"translate(72.45757402792667,15)\" style=\"font-family: sans-serif; font-size: 10px; fill: #000; opacity: 1;\">2100</text><text text-anchor=\"middle\" transform=\"translate(110.59291949158441,15)\" style=\"font-family: sans-serif; font-size: 10px; fill: #000; opacity: 1;\">2150</text><text text-anchor=\"middle\" transform=\"translate(148.72826495524217,15)\" style=\"font-family: sans-serif; font-size: 10px; fill: #000; opacity: 1;\">2200</text><text text-anchor=\"middle\" transform=\"translate(186.8636104188999,15)\" style=\"font-family: sans-serif; font-size: 10px; fill: #000; opacity: 1;\">2250</text><text text-anchor=\"middle\" transform=\"translate(224.99895588255768,15)\" style=\"font-family: sans-serif; font-size: 10px; fill: #000; opacity: 1;\">2300</text><text text-anchor=\"middle\" transform=\"translate(263.1343013462154,15)\" style=\"font-family: sans-serif; font-size: 10px; fill: #000; opacity: 1;\">2350</text><text text-anchor=\"middle\" transform=\"translate(301.26964680987317,15)\" style=\"font-family: sans-serif; font-size: 10px; fill: #000; opacity: 1;\">2400</text><text text-anchor=\"middle\" transform=\"translate(339.40708050841556,15)\" style=\"font-family: sans-serif; font-size: 10px; fill: #000; opacity: 1;\">2450</text><text text-anchor=\"middle\" transform=\"translate(377.5424259720734,15)\" style=\"font-family: sans-serif; font-size: 10px; fill: #000; opacity: 1;\">2500</text><text text-anchor=\"middle\" transform=\"translate(415.67777143573113,15)\" style=\"font-family: sans-serif; font-size: 10px; fill: #000; opacity: 1;\">2550</text></g><g class=\"mark-rule role-axis-domain\" style=\"pointer-events: none;\"><line transform=\"translate(0,0)\" x2=\"450\" y2=\"0\" style=\"fill: none; stroke: #888; stroke-width: 1; opacity: 1;\"></line></g><g class=\"mark-text role-axis-title\" style=\"pointer-events: none;\"><text text-anchor=\"middle\" transform=\"translate(225,30)\" style=\"font-family: sans-serif; font-size: 11px; font-weight: bold; fill: #000; opacity: 1;\">time (year)</text></g></g></g></g><g class=\"mark-group role-axis\"><g transform=\"translate(0.5,0.5)\"><path class=\"background\" d=\"M0,0h0v0h0Z\" style=\"pointer-events: none; fill: none;\"></path><g><g class=\"mark-rule role-axis-tick\" style=\"pointer-events: none;\"><line transform=\"translate(0,410)\" x2=\"-5\" y2=\"0\" style=\"fill: none; stroke: #888; stroke-width: 1; opacity: 1;\"></line><line transform=\"translate(0,369)\" x2=\"-5\" y2=\"0\" style=\"fill: none; stroke: #888; stroke-width: 1; opacity: 1;\"></line><line transform=\"translate(0,328)\" x2=\"-5\" y2=\"0\" style=\"fill: none; stroke: #888; stroke-width: 1; opacity: 1;\"></line><line transform=\"translate(0,287)\" x2=\"-5\" y2=\"0\" style=\"fill: none; stroke: #888; stroke-width: 1; opacity: 1;\"></line><line transform=\"translate(0,246)\" x2=\"-5\" y2=\"0\" style=\"fill: none; stroke: #888; stroke-width: 1; opacity: 1;\"></line><line transform=\"translate(0,205)\" x2=\"-5\" y2=\"0\" style=\"fill: none; stroke: #888; stroke-width: 1; opacity: 1;\"></line><line transform=\"translate(0,164)\" x2=\"-5\" y2=\"0\" style=\"fill: none; stroke: #888; stroke-width: 1; opacity: 1;\"></line><line transform=\"translate(0,123)\" x2=\"-5\" y2=\"0\" style=\"fill: none; stroke: #888; stroke-width: 1; opacity: 1;\"></line><line transform=\"translate(0,82)\" x2=\"-5\" y2=\"0\" style=\"fill: none; stroke: #888; stroke-width: 1; opacity: 1;\"></line><line transform=\"translate(0,41)\" x2=\"-5\" y2=\"0\" style=\"fill: none; stroke: #888; stroke-width: 1; opacity: 1;\"></line><line transform=\"translate(0,0)\" x2=\"-5\" y2=\"0\" style=\"fill: none; stroke: #888; stroke-width: 1; opacity: 1;\"></line></g><g class=\"mark-text role-axis-label\" style=\"pointer-events: none;\"><text text-anchor=\"end\" transform=\"translate(-7,413)\" style=\"font-family: sans-serif; font-size: 10px; fill: #000; opacity: 1;\">0.0</text><text text-anchor=\"end\" transform=\"translate(-7,372)\" style=\"font-family: sans-serif; font-size: 10px; fill: #000; opacity: 1;\">0.1</text><text text-anchor=\"end\" transform=\"translate(-7,331)\" style=\"font-family: sans-serif; font-size: 10px; fill: #000; opacity: 1;\">0.2</text><text text-anchor=\"end\" transform=\"translate(-7,290)\" style=\"font-family: sans-serif; font-size: 10px; fill: #000; opacity: 1;\">0.3</text><text text-anchor=\"end\" transform=\"translate(-7,249)\" style=\"font-family: sans-serif; font-size: 10px; fill: #000; opacity: 1;\">0.4</text><text text-anchor=\"end\" transform=\"translate(-7,208)\" style=\"font-family: sans-serif; font-size: 10px; fill: #000; opacity: 1;\">0.5</text><text text-anchor=\"end\" transform=\"translate(-7,167)\" style=\"font-family: sans-serif; font-size: 10px; fill: #000; opacity: 1;\">0.6</text><text text-anchor=\"end\" transform=\"translate(-7,126)\" style=\"font-family: sans-serif; font-size: 10px; fill: #000; opacity: 1;\">0.7</text><text text-anchor=\"end\" transform=\"translate(-7,85)\" style=\"font-family: sans-serif; font-size: 10px; fill: #000; opacity: 1;\">0.8</text><text text-anchor=\"end\" transform=\"translate(-7,44)\" style=\"font-family: sans-serif; font-size: 10px; fill: #000; opacity: 1;\">0.9</text><text text-anchor=\"end\" transform=\"translate(-7,3)\" style=\"font-family: sans-serif; font-size: 10px; fill: #000; opacity: 1;\">1.0</text></g><g class=\"mark-rule role-axis-domain\" style=\"pointer-events: none;\"><line transform=\"translate(0,410)\" x2=\"0\" y2=\"-410\" style=\"fill: none; stroke: #888; stroke-width: 1; opacity: 1;\"></line></g><g class=\"mark-text role-axis-title\" style=\"pointer-events: none;\"><text text-anchor=\"middle\" transform=\"translate(-24,205) rotate(-90) translate(0,-2)\" style=\"font-family: sans-serif; font-size: 11px; font-weight: bold; fill: #000; opacity: 1;\">MIU</text></g></g></g></g></g></g></g></g></g></g></g></svg>"
      ],
      "text/plain": [
       "VegaLite.VLSpec{:plot}"
      ]
     },
     "execution_count": 8,
     "metadata": {},
     "output_type": "execute_result"
    }
   ],
   "source": [
    "@vlplot(resolve={scale={y=:shared}}) + [Mimi.plot(m_dice1, :emissions, :MIU) Mimi.plot(m_opt, :emissions, :MIU)]"
   ]
  },
  {
   "cell_type": "markdown",
   "metadata": {},
   "source": [
    "For the first half of the period, the solver found the typical optimal policy ramp that characterizes DICE. The second half of our solution once again suffers from the fact that we don't properly handle the backstop case in this simple example, as we saw in the third notebook on Modifying Parameters. It would probably be more sensible to only optimize the first half of the model time period, and then assume 100% mitigation rate for the second half, like we did in our previous example. We will not fix this issue in this example tutorial, because we our goal is only to highlight the technical aspects of running an optimization."
   ]
  },
  {
   "cell_type": "markdown",
   "metadata": {},
   "source": [
    "Looking at the temperature for our optimization, and ignoring the second half of the model time period, we can see a significant impact of our optimal policy on temperatures."
   ]
  },
  {
   "cell_type": "code",
   "execution_count": 9,
   "metadata": {},
   "outputs": [
    {
     "data": {
      "application/vnd.vegalite.v3+json": {
       "hconcat": [
        {
         "$schema": "https://vega.github.io/schema/vega-lite/v3.json",
         "data": {
          "values": [
           {
            "TATM": "0.83",
            "time": "2005-01-01"
           },
           {
            "TATM": "0.98",
            "time": "2015-01-01"
           },
           {
            "TATM": "1.3881597063065039",
            "time": "2025-01-01"
           },
           {
            "TATM": "1.7763568832996077",
            "time": "2035-01-01"
           },
           {
            "TATM": "2.143378418542003",
            "time": "2045-01-01"
           },
           {
            "TATM": "2.48771553569001",
            "time": "2055-01-01"
           },
           {
            "TATM": "2.8087148591501157",
            "time": "2065-01-01"
           },
           {
            "TATM": "3.10671639649217",
            "time": "2075-01-01"
           },
           {
            "TATM": "3.382825259538321",
            "time": "2085-01-01"
           },
           {
            "TATM": "3.6386207932274326",
            "time": "2095-01-01"
           },
           {
            "TATM": "3.8759150825139432",
            "time": "2105-01-01"
           },
           {
            "TATM": "4.107603640506595",
            "time": "2115-01-01"
           },
           {
            "TATM": "4.3320678899024765",
            "time": "2125-01-01"
           },
           {
            "TATM": "4.548669639694528",
            "time": "2135-01-01"
           },
           {
            "TATM": "4.757364104876634",
            "time": "2145-01-01"
           },
           {
            "TATM": "4.95845043632468",
            "time": "2155-01-01"
           },
           {
            "TATM": "5.152412610352883",
            "time": "2165-01-01"
           },
           {
            "TATM": "5.3398195261657015",
            "time": "2175-01-01"
           },
           {
            "TATM": "5.521263793725003",
            "time": "2185-01-01"
           },
           {
            "TATM": "5.697325788302517",
            "time": "2195-01-01"
           },
           {
            "TATM": "5.868554376703898",
            "time": "2205-01-01"
           },
           {
            "TATM": "6.035459345242548",
            "time": "2215-01-01"
           },
           {
            "TATM": "6.198514129513103",
            "time": "2225-01-01"
           },
           {
            "TATM": "6.3581847198627255",
            "time": "2235-01-01"
           },
           {
            "TATM": "6.5148671959990105",
            "time": "2245-01-01"
           },
           {
            "TATM": "6.618260569750442",
            "time": "2255-01-01"
           },
           {
            "TATM": "6.637108329409583",
            "time": "2265-01-01"
           },
           {
            "TATM": "6.604999248696924",
            "time": "2275-01-01"
           },
           {
            "TATM": "6.544161231045846",
            "time": "2285-01-01"
           },
           {
            "TATM": "6.469101715479886",
            "time": "2295-01-01"
           },
           {
            "TATM": "6.389094468166331",
            "time": "2305-01-01"
           },
           {
            "TATM": "6.30988143244077",
            "time": "2315-01-01"
           },
           {
            "TATM": "6.234838775038302",
            "time": "2325-01-01"
           },
           {
            "TATM": "6.165775908514998",
            "time": "2335-01-01"
           },
           {
            "TATM": "6.103482237025658",
            "time": "2345-01-01"
           },
           {
            "TATM": "6.048099981351211",
            "time": "2355-01-01"
           },
           {
            "TATM": "5.999376851685412",
            "time": "2365-01-01"
           },
           {
            "TATM": "5.956835647931661",
            "time": "2375-01-01"
           },
           {
            "TATM": "5.919886474826612",
            "time": "2385-01-01"
           },
           {
            "TATM": "5.8878994327132546",
            "time": "2395-01-01"
           },
           {
            "TATM": "5.86025023335239",
            "time": "2405-01-01"
           },
           {
            "TATM": "5.836347426164182",
            "time": "2415-01-01"
           },
           {
            "TATM": "5.815647288994508",
            "time": "2425-01-01"
           },
           {
            "TATM": "5.797660591169723",
            "time": "2435-01-01"
           },
           {
            "TATM": "5.781954138232699",
            "time": "2445-01-01"
           },
           {
            "TATM": "5.768149094264203",
            "time": "2455-01-01"
           },
           {
            "TATM": "5.755917435823844",
            "time": "2465-01-01"
           },
           {
            "TATM": "5.7449774419575395",
            "time": "2475-01-01"
           },
           {
            "TATM": "5.735088811443862",
            "time": "2485-01-01"
           },
           {
            "TATM": "5.726047781785632",
            "time": "2495-01-01"
           },
           {
            "TATM": "5.717682476124955",
            "time": "2505-01-01"
           },
           {
            "TATM": "5.7098486040987675",
            "time": "2515-01-01"
           },
           {
            "TATM": "5.702425576261056",
            "time": "2525-01-01"
           },
           {
            "TATM": "5.695313048813406",
            "time": "2535-01-01"
           },
           {
            "TATM": "5.688427888709104",
            "time": "2545-01-01"
           },
           {
            "TATM": "5.681701533558629",
            "time": "2555-01-01"
           },
           {
            "TATM": "5.675077712524968",
            "time": "2565-01-01"
           },
           {
            "TATM": "5.6685104910086705",
            "time": "2575-01-01"
           },
           {
            "TATM": "5.6619626016188915",
            "time": "2585-01-01"
           },
           {
            "TATM": "5.655404025496941",
            "time": "2595-01-01"
           }
          ]
         },
         "description": "plot for a specific component variable pair",
         "encoding": {
          "x": {
           "field": "time",
           "timeUnit": "utcyear",
           "type": "temporal"
          },
          "y": {
           "field": "TATM",
           "type": "quantitative"
          }
         },
         "height": 410,
         "mark": {
          "type": "line"
         },
         "title": "climatedynamics : TATM",
         "width": 450
        },
        {
         "$schema": "https://vega.github.io/schema/vega-lite/v3.json",
         "data": {
          "values": [
           {
            "TATM": "0.83",
            "time": "2005-01-01"
           },
           {
            "TATM": "0.98",
            "time": "2015-01-01"
           },
           {
            "TATM": "1.3475858146106976",
            "time": "2025-01-01"
           },
           {
            "TATM": "1.6753123286582459",
            "time": "2035-01-01"
           },
           {
            "TATM": "1.964576723643404",
            "time": "2045-01-01"
           },
           {
            "TATM": "2.215676813677198",
            "time": "2055-01-01"
           },
           {
            "TATM": "2.429500961862893",
            "time": "2065-01-01"
           },
           {
            "TATM": "2.607177005108577",
            "time": "2075-01-01"
           },
           {
            "TATM": "2.748358039349489",
            "time": "2085-01-01"
           },
           {
            "TATM": "2.853300671297063",
            "time": "2095-01-01"
           },
           {
            "TATM": "2.9244432726341416",
            "time": "2105-01-01"
           },
           {
            "TATM": "2.973306926431298",
            "time": "2115-01-01"
           },
           {
            "TATM": "2.9970317233278156",
            "time": "2125-01-01"
           },
           {
            "TATM": "2.9996591984049203",
            "time": "2135-01-01"
           },
           {
            "TATM": "2.9864041910991688",
            "time": "2145-01-01"
           },
           {
            "TATM": "2.955711029639243",
            "time": "2155-01-01"
           },
           {
            "TATM": "2.9097399427997646",
            "time": "2165-01-01"
           },
           {
            "TATM": "2.8566914377373798",
            "time": "2175-01-01"
           },
           {
            "TATM": "2.8016891169065024",
            "time": "2185-01-01"
           },
           {
            "TATM": "2.748376916823775",
            "time": "2195-01-01"
           },
           {
            "TATM": "2.6989636522699283",
            "time": "2205-01-01"
           },
           {
            "TATM": "2.6535431596904733",
            "time": "2215-01-01"
           },
           {
            "TATM": "2.6125597368501077",
            "time": "2225-01-01"
           },
           {
            "TATM": "2.5763849956952094",
            "time": "2235-01-01"
           },
           {
            "TATM": "2.544887547317923",
            "time": "2245-01-01"
           },
           {
            "TATM": "2.5172648046823625",
            "time": "2255-01-01"
           },
           {
            "TATM": "2.4935778193518554",
            "time": "2265-01-01"
           },
           {
            "TATM": "2.4733093286414",
            "time": "2275-01-01"
           },
           {
            "TATM": "2.4555378045169354",
            "time": "2285-01-01"
           },
           {
            "TATM": "2.4415922502833007",
            "time": "2295-01-01"
           },
           {
            "TATM": "2.432204503126353",
            "time": "2305-01-01"
           },
           {
            "TATM": "2.4245773723178745",
            "time": "2315-01-01"
           },
           {
            "TATM": "2.417387821511385",
            "time": "2325-01-01"
           },
           {
            "TATM": "2.412424388657393",
            "time": "2335-01-01"
           },
           {
            "TATM": "2.4150503497814264",
            "time": "2345-01-01"
           },
           {
            "TATM": "2.429304308602863",
            "time": "2355-01-01"
           },
           {
            "TATM": "2.4433279875039533",
            "time": "2365-01-01"
           },
           {
            "TATM": "2.4890412710931575",
            "time": "2375-01-01"
           },
           {
            "TATM": "2.6714554966260793",
            "time": "2385-01-01"
           },
           {
            "TATM": "2.988168174819326",
            "time": "2395-01-01"
           },
           {
            "TATM": "3.405328217073108",
            "time": "2405-01-01"
           },
           {
            "TATM": "3.8061520690774624",
            "time": "2415-01-01"
           },
           {
            "TATM": "4.105641752096957",
            "time": "2425-01-01"
           },
           {
            "TATM": "4.356275302774014",
            "time": "2435-01-01"
           },
           {
            "TATM": "4.570467983605466",
            "time": "2445-01-01"
           },
           {
            "TATM": "4.772850781875381",
            "time": "2455-01-01"
           },
           {
            "TATM": "4.962047414660185",
            "time": "2465-01-01"
           },
           {
            "TATM": "5.167331512036632",
            "time": "2475-01-01"
           },
           {
            "TATM": "5.364639700243988",
            "time": "2485-01-01"
           },
           {
            "TATM": "5.578167306953608",
            "time": "2495-01-01"
           },
           {
            "TATM": "5.84094472143656",
            "time": "2505-01-01"
           },
           {
            "TATM": "6.1353798823083485",
            "time": "2515-01-01"
           },
           {
            "TATM": "6.466051629116851",
            "time": "2525-01-01"
           },
           {
            "TATM": "6.763881226621765",
            "time": "2535-01-01"
           },
           {
            "TATM": "7.000361381761978",
            "time": "2545-01-01"
           },
           {
            "TATM": "7.191868483506323",
            "time": "2555-01-01"
           },
           {
            "TATM": "7.349530562863987",
            "time": "2565-01-01"
           },
           {
            "TATM": "7.448266982519309",
            "time": "2575-01-01"
           },
           {
            "TATM": "7.505056990051523",
            "time": "2585-01-01"
           },
           {
            "TATM": "7.561552787443189",
            "time": "2595-01-01"
           }
          ]
         },
         "description": "plot for a specific component variable pair",
         "encoding": {
          "x": {
           "field": "time",
           "timeUnit": "utcyear",
           "type": "temporal"
          },
          "y": {
           "field": "TATM",
           "type": "quantitative"
          }
         },
         "height": 410,
         "mark": {
          "type": "line"
         },
         "title": "climatedynamics : TATM",
         "width": 450
        }
       ],
       "resolve": {
        "scale": {
         "y": "shared"
        }
       }
      },
      "image/png": "[encoded data removed]",
      "image/svg+xml": [
       "<svg class=\"marks\" width=\"992\" height=\"476\" viewBox=\"0 0 992 476\" version=\"1.1\" xmlns=\"http://www.w3.org/2000/svg\" xmlns:xlink=\"http://www.w3.org/1999/xlink\"><g transform=\"translate(33,28)\"><g class=\"mark-group role-frame root\"><g transform=\"translate(0,0)\"><path class=\"background\" d=\"M0,0h0v410h0Z\" style=\"fill: none;\"></path><g><g class=\"mark-group role-scope concat_0_group\"><g transform=\"translate(0,0)\"><path class=\"background\" d=\"M0.5,0.5h450v410h-450Z\" style=\"fill: none; stroke: #ddd;\"></path><g><g class=\"mark-group role-axis\"><g transform=\"translate(0.5,410.5)\"><path class=\"background\" d=\"M0,0h0v0h0Z\" style=\"pointer-events: none; fill: none;\"></path><g><g class=\"mark-rule role-axis-grid\" style=\"pointer-events: none;\"><line transform=\"translate(34,-410)\" x2=\"0\" y2=\"410\" style=\"fill: none; stroke: #ddd; stroke-width: 1; opacity: 1;\"></line><line transform=\"translate(72,-410)\" x2=\"0\" y2=\"410\" style=\"fill: none; stroke: #ddd; stroke-width: 1; opacity: 1;\"></line><line transform=\"translate(111,-410)\" x2=\"0\" y2=\"410\" style=\"fill: none; stroke: #ddd; stroke-width: 1; opacity: 1;\"></line><line transform=\"translate(149,-410)\" x2=\"0\" y2=\"410\" style=\"fill: none; stroke: #ddd; stroke-width: 1; opacity: 1;\"></line><line transform=\"translate(187,-410)\" x2=\"0\" y2=\"410\" style=\"fill: none; stroke: #ddd; stroke-width: 1; opacity: 1;\"></line><line transform=\"translate(225,-410)\" x2=\"0\" y2=\"410\" style=\"fill: none; stroke: #ddd; stroke-width: 1; opacity: 1;\"></line><line transform=\"translate(263,-410)\" x2=\"0\" y2=\"410\" style=\"fill: none; stroke: #ddd; stroke-width: 1; opacity: 1;\"></line><line transform=\"translate(301,-410)\" x2=\"0\" y2=\"410\" style=\"fill: none; stroke: #ddd; stroke-width: 1; opacity: 1;\"></line><line transform=\"translate(339,-410)\" x2=\"0\" y2=\"410\" style=\"fill: none; stroke: #ddd; stroke-width: 1; opacity: 1;\"></line><line transform=\"translate(378,-410)\" x2=\"0\" y2=\"410\" style=\"fill: none; stroke: #ddd; stroke-width: 1; opacity: 1;\"></line><line transform=\"translate(416,-410)\" x2=\"0\" y2=\"410\" style=\"fill: none; stroke: #ddd; stroke-width: 1; opacity: 1;\"></line></g></g></g></g><g class=\"mark-group role-axis\"><g transform=\"translate(0.5,0.5)\"><path class=\"background\" d=\"M0,0h0v0h0Z\" style=\"pointer-events: none; fill: none;\"></path><g><g class=\"mark-rule role-axis-grid\" style=\"pointer-events: none;\"><line transform=\"translate(0,410)\" x2=\"450\" y2=\"0\" style=\"fill: none; stroke: #ddd; stroke-width: 1; opacity: 1;\"></line><line transform=\"translate(0,359)\" x2=\"450\" y2=\"0\" style=\"fill: none; stroke: #ddd; stroke-width: 1; opacity: 1;\"></line><line transform=\"translate(0,308)\" x2=\"450\" y2=\"0\" style=\"fill: none; stroke: #ddd; stroke-width: 1; opacity: 1;\"></line><line transform=\"translate(0,256)\" x2=\"450\" y2=\"0\" style=\"fill: none; stroke: #ddd; stroke-width: 1; opacity: 1;\"></line><line transform=\"translate(0,205)\" x2=\"450\" y2=\"0\" style=\"fill: none; stroke: #ddd; stroke-width: 1; opacity: 1;\"></line><line transform=\"translate(0,154)\" x2=\"450\" y2=\"0\" style=\"fill: none; stroke: #ddd; stroke-width: 1; opacity: 1;\"></line><line transform=\"translate(0,103)\" x2=\"450\" y2=\"0\" style=\"fill: none; stroke: #ddd; stroke-width: 1; opacity: 1;\"></line><line transform=\"translate(0,51)\" x2=\"450\" y2=\"0\" style=\"fill: none; stroke: #ddd; stroke-width: 1; opacity: 1;\"></line><line transform=\"translate(0,0)\" x2=\"450\" y2=\"0\" style=\"fill: none; stroke: #ddd; stroke-width: 1; opacity: 1;\"></line></g></g></g></g><g class=\"mark-line role-mark concat_0_marks\"><path d=\"M450,120.16054369328174L442.37376620122234,119.82441666703181L434.74544416756,119.48883733580561L427.11921036878226,119.15226723309542L419.4908883351199,118.81279640512025L411.86465453634224,118.46807070365838L404.2363325026799,118.11520624831292L396.6100987039022,117.75068921662091L388.98177667023987,117.37025903993816L381.35554287146215,116.96877309859605L373.7293090726845,116.54005118348636L366.10307527390677,116.07669841350207L358.47475324024447,115.56990609967607L350.84851944146675,115.00923141402802L343.2201974078044,114.3823589189596L335.59396360902673,113.67485041557416L327.96564157536443,112.86989470255168L320.3394077765867,111.94807643903147L312.7110857429244,110.88719440908568L305.0848519441467,109.66217554069004L297.45652991048433,108.24515407344569L289.8302961117067,106.60581816513616L282.2019740780443,104.71217304350239L274.5757402792666,102.53193635112262L266.9474182456043,100.03487595575046L259.3211844468266,97.19653535243503L251.69286241316425,94.00398468860635L244.06662861438656,90.46451277928702L236.4383065807242,86.61857658741053L228.8120727819465,82.55890850647557L221.18583898316882,78.45853708165583L213.55960518439113,74.61173690890035L205.9312831507288,71.49378850428263L198.3050493519511,69.8481981177589L190.67672731828875,70.81414580028985L183.05049351951106,76.11305620505073L175.4221714858487,84.14303310703531L167.79593768707105,92.32615086245346L160.16761565340872,100.68270855631943L152.54138185463103,109.23658819392523L144.91514805585334,118.012053349496L137.28891425707565,127.03523057159356L129.6605922234133,136.3342492840078L122.0343584246356,145.93885371941474L114.40603639097326,155.87941513836012L106.77980259219557,166.1850896250725L99.15148055853322,176.88068096565544L91.52524675975553,187.98152064249808L83.89692472609319,199.48531342403697L76.27069092731551,211.35935202116042L68.64445712853782,223.5206843470941L61.01822332976013,236.63020544866106L53.38990129609778,250.7807846797763L45.7636674973201,266.05336346855654L38.13534546365776,282.504578795887L30.509111664880066,300.15185604972237L22.88078963121772,318.9617097308951L15.254555832440033,338.85681505179167L7.626233798777686,359.775L0,367.4625\" style=\"fill: none; stroke: #4c78a8; stroke-width: 2;\"></path></g><g class=\"mark-text role-title\" style=\"pointer-events: none;\"><text text-anchor=\"middle\" transform=\"translate(225,-12)\" style=\"font-family: sans-serif; font-size: 13px; font-weight: bold; fill: #000; opacity: 1;\">climatedynamics : TATM</text></g><g class=\"mark-group role-axis\"><g transform=\"translate(0.5,410.5)\"><path class=\"background\" d=\"M0,0h0v0h0Z\" style=\"pointer-events: none; fill: none;\"></path><g><g class=\"mark-rule role-axis-tick\" style=\"pointer-events: none;\"><line transform=\"translate(34,0)\" x2=\"0\" y2=\"5\" style=\"fill: none; stroke: #888; stroke-width: 1; opacity: 1;\"></line><line transform=\"translate(72,0)\" x2=\"0\" y2=\"5\" style=\"fill: none; stroke: #888; stroke-width: 1; opacity: 1;\"></line><line transform=\"translate(111,0)\" x2=\"0\" y2=\"5\" style=\"fill: none; stroke: #888; stroke-width: 1; opacity: 1;\"></line><line transform=\"translate(149,0)\" x2=\"0\" y2=\"5\" style=\"fill: none; stroke: #888; stroke-width: 1; opacity: 1;\"></line><line transform=\"translate(187,0)\" x2=\"0\" y2=\"5\" style=\"fill: none; stroke: #888; stroke-width: 1; opacity: 1;\"></line><line transform=\"translate(225,0)\" x2=\"0\" y2=\"5\" style=\"fill: none; stroke: #888; stroke-width: 1; opacity: 1;\"></line><line transform=\"translate(263,0)\" x2=\"0\" y2=\"5\" style=\"fill: none; stroke: #888; stroke-width: 1; opacity: 1;\"></line><line transform=\"translate(301,0)\" x2=\"0\" y2=\"5\" style=\"fill: none; stroke: #888; stroke-width: 1; opacity: 1;\"></line><line transform=\"translate(339,0)\" x2=\"0\" y2=\"5\" style=\"fill: none; stroke: #888; stroke-width: 1; opacity: 1;\"></line><line transform=\"translate(378,0)\" x2=\"0\" y2=\"5\" style=\"fill: none; stroke: #888; stroke-width: 1; opacity: 1;\"></line><line transform=\"translate(416,0)\" x2=\"0\" y2=\"5\" style=\"fill: none; stroke: #888; stroke-width: 1; opacity: 1;\"></line></g><g class=\"mark-text role-axis-label\" style=\"pointer-events: none;\"><text text-anchor=\"middle\" transform=\"translate(34.32222856426891,15)\" style=\"font-family: sans-serif; font-size: 10px; fill: #000; opacity: 1;\">2050</text><text text-anchor=\"middle\" transform=\"translate(72.45757402792667,15)\" style=\"font-family: sans-serif; font-size: 10px; fill: #000; opacity: 1;\">2100</text><text text-anchor=\"middle\" transform=\"translate(110.59291949158441,15)\" style=\"font-family: sans-serif; font-size: 10px; fill: #000; opacity: 1;\">2150</text><text text-anchor=\"middle\" transform=\"translate(148.72826495524217,15)\" style=\"font-family: sans-serif; font-size: 10px; fill: #000; opacity: 1;\">2200</text><text text-anchor=\"middle\" transform=\"translate(186.8636104188999,15)\" style=\"font-family: sans-serif; font-size: 10px; fill: #000; opacity: 1;\">2250</text><text text-anchor=\"middle\" transform=\"translate(224.99895588255768,15)\" style=\"font-family: sans-serif; font-size: 10px; fill: #000; opacity: 1;\">2300</text><text text-anchor=\"middle\" transform=\"translate(263.1343013462154,15)\" style=\"font-family: sans-serif; font-size: 10px; fill: #000; opacity: 1;\">2350</text><text text-anchor=\"middle\" transform=\"translate(301.26964680987317,15)\" style=\"font-family: sans-serif; font-size: 10px; fill: #000; opacity: 1;\">2400</text><text text-anchor=\"middle\" transform=\"translate(339.40708050841556,15)\" style=\"font-family: sans-serif; font-size: 10px; fill: #000; opacity: 1;\">2450</text><text text-anchor=\"middle\" transform=\"translate(377.5424259720734,15)\" style=\"font-family: sans-serif; font-size: 10px; fill: #000; opacity: 1;\">2500</text><text text-anchor=\"middle\" transform=\"translate(415.67777143573113,15)\" style=\"font-family: sans-serif; font-size: 10px; fill: #000; opacity: 1;\">2550</text></g><g class=\"mark-rule role-axis-domain\" style=\"pointer-events: none;\"><line transform=\"translate(0,0)\" x2=\"450\" y2=\"0\" style=\"fill: none; stroke: #888; stroke-width: 1; opacity: 1;\"></line></g><g class=\"mark-text role-axis-title\" style=\"pointer-events: none;\"><text text-anchor=\"middle\" transform=\"translate(225,30)\" style=\"font-family: sans-serif; font-size: 11px; font-weight: bold; fill: #000; opacity: 1;\">time (year)</text></g></g></g></g><g class=\"mark-group role-axis\"><g transform=\"translate(0.5,0.5)\"><path class=\"background\" d=\"M0,0h0v0h0Z\" style=\"pointer-events: none; fill: none;\"></path><g><g class=\"mark-rule role-axis-tick\" style=\"pointer-events: none;\"><line transform=\"translate(0,410)\" x2=\"-5\" y2=\"0\" style=\"fill: none; stroke: #888; stroke-width: 1; opacity: 1;\"></line><line transform=\"translate(0,359)\" x2=\"-5\" y2=\"0\" style=\"fill: none; stroke: #888; stroke-width: 1; opacity: 1;\"></line><line transform=\"translate(0,308)\" x2=\"-5\" y2=\"0\" style=\"fill: none; stroke: #888; stroke-width: 1; opacity: 1;\"></line><line transform=\"translate(0,256)\" x2=\"-5\" y2=\"0\" style=\"fill: none; stroke: #888; stroke-width: 1; opacity: 1;\"></line><line transform=\"translate(0,205)\" x2=\"-5\" y2=\"0\" style=\"fill: none; stroke: #888; stroke-width: 1; opacity: 1;\"></line><line transform=\"translate(0,154)\" x2=\"-5\" y2=\"0\" style=\"fill: none; stroke: #888; stroke-width: 1; opacity: 1;\"></line><line transform=\"translate(0,103)\" x2=\"-5\" y2=\"0\" style=\"fill: none; stroke: #888; stroke-width: 1; opacity: 1;\"></line><line transform=\"translate(0,51)\" x2=\"-5\" y2=\"0\" style=\"fill: none; stroke: #888; stroke-width: 1; opacity: 1;\"></line><line transform=\"translate(0,0)\" x2=\"-5\" y2=\"0\" style=\"fill: none; stroke: #888; stroke-width: 1; opacity: 1;\"></line></g><g class=\"mark-text role-axis-label\" style=\"pointer-events: none;\"><text text-anchor=\"end\" transform=\"translate(-7,413)\" style=\"font-family: sans-serif; font-size: 10px; fill: #000; opacity: 1;\">0</text><text text-anchor=\"end\" transform=\"translate(-7,361.75)\" style=\"font-family: sans-serif; font-size: 10px; fill: #000; opacity: 1;\">1</text><text text-anchor=\"end\" transform=\"translate(-7,310.5)\" style=\"font-family: sans-serif; font-size: 10px; fill: #000; opacity: 1;\">2</text><text text-anchor=\"end\" transform=\"translate(-7,259.25)\" style=\"font-family: sans-serif; font-size: 10px; fill: #000; opacity: 1;\">3</text><text text-anchor=\"end\" transform=\"translate(-7,208)\" style=\"font-family: sans-serif; font-size: 10px; fill: #000; opacity: 1;\">4</text><text text-anchor=\"end\" transform=\"translate(-7,156.75)\" style=\"font-family: sans-serif; font-size: 10px; fill: #000; opacity: 1;\">5</text><text text-anchor=\"end\" transform=\"translate(-7,105.5)\" style=\"font-family: sans-serif; font-size: 10px; fill: #000; opacity: 1;\">6</text><text text-anchor=\"end\" transform=\"translate(-7,54.25)\" style=\"font-family: sans-serif; font-size: 10px; fill: #000; opacity: 1;\">7</text><text text-anchor=\"end\" transform=\"translate(-7,3)\" style=\"font-family: sans-serif; font-size: 10px; fill: #000; opacity: 1;\">8</text></g><g class=\"mark-rule role-axis-domain\" style=\"pointer-events: none;\"><line transform=\"translate(0,410)\" x2=\"0\" y2=\"-410\" style=\"fill: none; stroke: #888; stroke-width: 1; opacity: 1;\"></line></g><g class=\"mark-text role-axis-title\" style=\"pointer-events: none;\"><text text-anchor=\"middle\" transform=\"translate(-16,205) rotate(-90) translate(0,-2)\" style=\"font-family: sans-serif; font-size: 11px; font-weight: bold; fill: #000; opacity: 1;\">TATM</text></g></g></g></g></g></g></g><g class=\"mark-group role-scope concat_1_group\"><g transform=\"translate(501,0)\"><path class=\"background\" d=\"M0.5,0.5h450v410h-450Z\" style=\"fill: none; stroke: #ddd;\"></path><g><g class=\"mark-group role-axis\"><g transform=\"translate(0.5,410.5)\"><path class=\"background\" d=\"M0,0h0v0h0Z\" style=\"pointer-events: none; fill: none;\"></path><g><g class=\"mark-rule role-axis-grid\" style=\"pointer-events: none;\"><line transform=\"translate(34,-410)\" x2=\"0\" y2=\"410\" style=\"fill: none; stroke: #ddd; stroke-width: 1; opacity: 1;\"></line><line transform=\"translate(72,-410)\" x2=\"0\" y2=\"410\" style=\"fill: none; stroke: #ddd; stroke-width: 1; opacity: 1;\"></line><line transform=\"translate(111,-410)\" x2=\"0\" y2=\"410\" style=\"fill: none; stroke: #ddd; stroke-width: 1; opacity: 1;\"></line><line transform=\"translate(149,-410)\" x2=\"0\" y2=\"410\" style=\"fill: none; stroke: #ddd; stroke-width: 1; opacity: 1;\"></line><line transform=\"translate(187,-410)\" x2=\"0\" y2=\"410\" style=\"fill: none; stroke: #ddd; stroke-width: 1; opacity: 1;\"></line><line transform=\"translate(225,-410)\" x2=\"0\" y2=\"410\" style=\"fill: none; stroke: #ddd; stroke-width: 1; opacity: 1;\"></line><line transform=\"translate(263,-410)\" x2=\"0\" y2=\"410\" style=\"fill: none; stroke: #ddd; stroke-width: 1; opacity: 1;\"></line><line transform=\"translate(301,-410)\" x2=\"0\" y2=\"410\" style=\"fill: none; stroke: #ddd; stroke-width: 1; opacity: 1;\"></line><line transform=\"translate(339,-410)\" x2=\"0\" y2=\"410\" style=\"fill: none; stroke: #ddd; stroke-width: 1; opacity: 1;\"></line><line transform=\"translate(378,-410)\" x2=\"0\" y2=\"410\" style=\"fill: none; stroke: #ddd; stroke-width: 1; opacity: 1;\"></line><line transform=\"translate(416,-410)\" x2=\"0\" y2=\"410\" style=\"fill: none; stroke: #ddd; stroke-width: 1; opacity: 1;\"></line></g></g></g></g><g class=\"mark-group role-axis\"><g transform=\"translate(0.5,0.5)\"><path class=\"background\" d=\"M0,0h0v0h0Z\" style=\"pointer-events: none; fill: none;\"></path><g><g class=\"mark-rule role-axis-grid\" style=\"pointer-events: none;\"><line transform=\"translate(0,410)\" x2=\"450\" y2=\"0\" style=\"fill: none; stroke: #ddd; stroke-width: 1; opacity: 1;\"></line><line transform=\"translate(0,359)\" x2=\"450\" y2=\"0\" style=\"fill: none; stroke: #ddd; stroke-width: 1; opacity: 1;\"></line><line transform=\"translate(0,308)\" x2=\"450\" y2=\"0\" style=\"fill: none; stroke: #ddd; stroke-width: 1; opacity: 1;\"></line><line transform=\"translate(0,256)\" x2=\"450\" y2=\"0\" style=\"fill: none; stroke: #ddd; stroke-width: 1; opacity: 1;\"></line><line transform=\"translate(0,205)\" x2=\"450\" y2=\"0\" style=\"fill: none; stroke: #ddd; stroke-width: 1; opacity: 1;\"></line><line transform=\"translate(0,154)\" x2=\"450\" y2=\"0\" style=\"fill: none; stroke: #ddd; stroke-width: 1; opacity: 1;\"></line><line transform=\"translate(0,103)\" x2=\"450\" y2=\"0\" style=\"fill: none; stroke: #ddd; stroke-width: 1; opacity: 1;\"></line><line transform=\"translate(0,51)\" x2=\"450\" y2=\"0\" style=\"fill: none; stroke: #ddd; stroke-width: 1; opacity: 1;\"></line><line transform=\"translate(0,0)\" x2=\"450\" y2=\"0\" style=\"fill: none; stroke: #ddd; stroke-width: 1; opacity: 1;\"></line></g></g></g></g><g class=\"mark-line role-mark concat_1_marks\"><path d=\"M450,22.47041964353656L442.37376620122234,25.365829259859424L434.74544416756,28.2763171458854L427.11921036878226,33.33655865322066L419.4908883351199,41.41674022030094L411.86465453634224,51.23147918469863L404.2363325026799,63.35108713563454L396.6100987039022,78.61485400776138L388.98177667023987,95.56178103169714L381.35554287146215,110.65158302637633L373.7293090726845,124.11892551862758L366.10307527390677,135.06221536249564L358.47475324024447,145.17426000812264L350.84851944146675,155.6950699986655L343.2201974078044,165.3913974288867L335.59396360902673,175.76351584021987L327.96564157536443,186.7408907328318L320.3394077765867,199.58586020503097L312.7110857429244,214.93470645978005L305.0848519441467,235.4769288750032L297.45652991048433,256.8563810405095L289.8302961117067,273.08790579791344L282.2019740780443,282.4366348564757L274.5757402792666,284.7794406404224L266.9474182456043,285.49815418410327L259.3211844468266,286.2286695737019L251.69286241316425,286.3632500813086L244.06662861438656,286.10887414754154L236.4383065807242,285.74040966870893L228.8120727819465,285.34951921477443L221.18583898316882,284.86839717298085L213.55960518439113,284.15368751850707L205.9312831507288,283.2428969071283L198.3050493519511,282.20413675821743L190.67672731828875,280.9901787600289L183.05049351951106,279.5745131999564L175.4221714858487,277.9602689706205L167.79593768707105,276.106313486432L160.16761565340872,274.00591306586324L152.54138185463103,271.67811282116617L144.91514805585334,269.14568301278155L137.28891425707565,266.4134327585417L129.6605922234133,263.5945638159593L122.0343584246356,260.87582793151205L114.40603639097326,258.51980973098875L106.77980259219557,256.9467852061676L99.15148055853322,256.26746608174784L91.52524675975553,256.40212417944946L83.89692472609319,257.618020020396L76.27069092731551,260.12228227750023L68.64445712853782,263.7683405960255L61.01822332976013,269.1466504833387L53.38990129609778,276.38217848818545L45.7636674973201,285.48807570452675L38.13534546365776,296.44656329904365L30.509111664880066,309.31544291327555L22.88078963121772,324.1402431562649L15.254555832440033,340.93622700120176L7.626233798777686,359.775L0,367.4625\" style=\"fill: none; stroke: #4c78a8; stroke-width: 2;\"></path></g><g class=\"mark-text role-title\" style=\"pointer-events: none;\"><text text-anchor=\"middle\" transform=\"translate(225,-12)\" style=\"font-family: sans-serif; font-size: 13px; font-weight: bold; fill: #000; opacity: 1;\">climatedynamics : TATM</text></g><g class=\"mark-group role-axis\"><g transform=\"translate(0.5,410.5)\"><path class=\"background\" d=\"M0,0h0v0h0Z\" style=\"pointer-events: none; fill: none;\"></path><g><g class=\"mark-rule role-axis-tick\" style=\"pointer-events: none;\"><line transform=\"translate(34,0)\" x2=\"0\" y2=\"5\" style=\"fill: none; stroke: #888; stroke-width: 1; opacity: 1;\"></line><line transform=\"translate(72,0)\" x2=\"0\" y2=\"5\" style=\"fill: none; stroke: #888; stroke-width: 1; opacity: 1;\"></line><line transform=\"translate(111,0)\" x2=\"0\" y2=\"5\" style=\"fill: none; stroke: #888; stroke-width: 1; opacity: 1;\"></line><line transform=\"translate(149,0)\" x2=\"0\" y2=\"5\" style=\"fill: none; stroke: #888; stroke-width: 1; opacity: 1;\"></line><line transform=\"translate(187,0)\" x2=\"0\" y2=\"5\" style=\"fill: none; stroke: #888; stroke-width: 1; opacity: 1;\"></line><line transform=\"translate(225,0)\" x2=\"0\" y2=\"5\" style=\"fill: none; stroke: #888; stroke-width: 1; opacity: 1;\"></line><line transform=\"translate(263,0)\" x2=\"0\" y2=\"5\" style=\"fill: none; stroke: #888; stroke-width: 1; opacity: 1;\"></line><line transform=\"translate(301,0)\" x2=\"0\" y2=\"5\" style=\"fill: none; stroke: #888; stroke-width: 1; opacity: 1;\"></line><line transform=\"translate(339,0)\" x2=\"0\" y2=\"5\" style=\"fill: none; stroke: #888; stroke-width: 1; opacity: 1;\"></line><line transform=\"translate(378,0)\" x2=\"0\" y2=\"5\" style=\"fill: none; stroke: #888; stroke-width: 1; opacity: 1;\"></line><line transform=\"translate(416,0)\" x2=\"0\" y2=\"5\" style=\"fill: none; stroke: #888; stroke-width: 1; opacity: 1;\"></line></g><g class=\"mark-text role-axis-label\" style=\"pointer-events: none;\"><text text-anchor=\"middle\" transform=\"translate(34.32222856426891,15)\" style=\"font-family: sans-serif; font-size: 10px; fill: #000; opacity: 1;\">2050</text><text text-anchor=\"middle\" transform=\"translate(72.45757402792667,15)\" style=\"font-family: sans-serif; font-size: 10px; fill: #000; opacity: 1;\">2100</text><text text-anchor=\"middle\" transform=\"translate(110.59291949158441,15)\" style=\"font-family: sans-serif; font-size: 10px; fill: #000; opacity: 1;\">2150</text><text text-anchor=\"middle\" transform=\"translate(148.72826495524217,15)\" style=\"font-family: sans-serif; font-size: 10px; fill: #000; opacity: 1;\">2200</text><text text-anchor=\"middle\" transform=\"translate(186.8636104188999,15)\" style=\"font-family: sans-serif; font-size: 10px; fill: #000; opacity: 1;\">2250</text><text text-anchor=\"middle\" transform=\"translate(224.99895588255768,15)\" style=\"font-family: sans-serif; font-size: 10px; fill: #000; opacity: 1;\">2300</text><text text-anchor=\"middle\" transform=\"translate(263.1343013462154,15)\" style=\"font-family: sans-serif; font-size: 10px; fill: #000; opacity: 1;\">2350</text><text text-anchor=\"middle\" transform=\"translate(301.26964680987317,15)\" style=\"font-family: sans-serif; font-size: 10px; fill: #000; opacity: 1;\">2400</text><text text-anchor=\"middle\" transform=\"translate(339.40708050841556,15)\" style=\"font-family: sans-serif; font-size: 10px; fill: #000; opacity: 1;\">2450</text><text text-anchor=\"middle\" transform=\"translate(377.5424259720734,15)\" style=\"font-family: sans-serif; font-size: 10px; fill: #000; opacity: 1;\">2500</text><text text-anchor=\"middle\" transform=\"translate(415.67777143573113,15)\" style=\"font-family: sans-serif; font-size: 10px; fill: #000; opacity: 1;\">2550</text></g><g class=\"mark-rule role-axis-domain\" style=\"pointer-events: none;\"><line transform=\"translate(0,0)\" x2=\"450\" y2=\"0\" style=\"fill: none; stroke: #888; stroke-width: 1; opacity: 1;\"></line></g><g class=\"mark-text role-axis-title\" style=\"pointer-events: none;\"><text text-anchor=\"middle\" transform=\"translate(225,30)\" style=\"font-family: sans-serif; font-size: 11px; font-weight: bold; fill: #000; opacity: 1;\">time (year)</text></g></g></g></g><g class=\"mark-group role-axis\"><g transform=\"translate(0.5,0.5)\"><path class=\"background\" d=\"M0,0h0v0h0Z\" style=\"pointer-events: none; fill: none;\"></path><g><g class=\"mark-rule role-axis-tick\" style=\"pointer-events: none;\"><line transform=\"translate(0,410)\" x2=\"-5\" y2=\"0\" style=\"fill: none; stroke: #888; stroke-width: 1; opacity: 1;\"></line><line transform=\"translate(0,359)\" x2=\"-5\" y2=\"0\" style=\"fill: none; stroke: #888; stroke-width: 1; opacity: 1;\"></line><line transform=\"translate(0,308)\" x2=\"-5\" y2=\"0\" style=\"fill: none; stroke: #888; stroke-width: 1; opacity: 1;\"></line><line transform=\"translate(0,256)\" x2=\"-5\" y2=\"0\" style=\"fill: none; stroke: #888; stroke-width: 1; opacity: 1;\"></line><line transform=\"translate(0,205)\" x2=\"-5\" y2=\"0\" style=\"fill: none; stroke: #888; stroke-width: 1; opacity: 1;\"></line><line transform=\"translate(0,154)\" x2=\"-5\" y2=\"0\" style=\"fill: none; stroke: #888; stroke-width: 1; opacity: 1;\"></line><line transform=\"translate(0,103)\" x2=\"-5\" y2=\"0\" style=\"fill: none; stroke: #888; stroke-width: 1; opacity: 1;\"></line><line transform=\"translate(0,51)\" x2=\"-5\" y2=\"0\" style=\"fill: none; stroke: #888; stroke-width: 1; opacity: 1;\"></line><line transform=\"translate(0,0)\" x2=\"-5\" y2=\"0\" style=\"fill: none; stroke: #888; stroke-width: 1; opacity: 1;\"></line></g><g class=\"mark-text role-axis-label\" style=\"pointer-events: none;\"><text text-anchor=\"end\" transform=\"translate(-7,413)\" style=\"font-family: sans-serif; font-size: 10px; fill: #000; opacity: 1;\">0</text><text text-anchor=\"end\" transform=\"translate(-7,361.75)\" style=\"font-family: sans-serif; font-size: 10px; fill: #000; opacity: 1;\">1</text><text text-anchor=\"end\" transform=\"translate(-7,310.5)\" style=\"font-family: sans-serif; font-size: 10px; fill: #000; opacity: 1;\">2</text><text text-anchor=\"end\" transform=\"translate(-7,259.25)\" style=\"font-family: sans-serif; font-size: 10px; fill: #000; opacity: 1;\">3</text><text text-anchor=\"end\" transform=\"translate(-7,208)\" style=\"font-family: sans-serif; font-size: 10px; fill: #000; opacity: 1;\">4</text><text text-anchor=\"end\" transform=\"translate(-7,156.75)\" style=\"font-family: sans-serif; font-size: 10px; fill: #000; opacity: 1;\">5</text><text text-anchor=\"end\" transform=\"translate(-7,105.5)\" style=\"font-family: sans-serif; font-size: 10px; fill: #000; opacity: 1;\">6</text><text text-anchor=\"end\" transform=\"translate(-7,54.25)\" style=\"font-family: sans-serif; font-size: 10px; fill: #000; opacity: 1;\">7</text><text text-anchor=\"end\" transform=\"translate(-7,3)\" style=\"font-family: sans-serif; font-size: 10px; fill: #000; opacity: 1;\">8</text></g><g class=\"mark-rule role-axis-domain\" style=\"pointer-events: none;\"><line transform=\"translate(0,410)\" x2=\"0\" y2=\"-410\" style=\"fill: none; stroke: #888; stroke-width: 1; opacity: 1;\"></line></g><g class=\"mark-text role-axis-title\" style=\"pointer-events: none;\"><text text-anchor=\"middle\" transform=\"translate(-16,205) rotate(-90) translate(0,-2)\" style=\"font-family: sans-serif; font-size: 11px; font-weight: bold; fill: #000; opacity: 1;\">TATM</text></g></g></g></g></g></g></g></g></g></g></g></svg>"
      ],
      "text/plain": [
       "VegaLite.VLSpec{:plot}"
      ]
     },
     "execution_count": 9,
     "metadata": {},
     "output_type": "execute_result"
    }
   ],
   "source": [
    "@vlplot(resolve={scale={y=:shared}}) + [Mimi.plot(m_dice1, :climatedynamics, :TATM) Mimi.plot(m_opt, :climatedynamics, :TATM)]"
   ]
  }
 ],
 "metadata": {
  "@webio": {
   "lastCommId": null,
   "lastKernelId": null
  },
  "kernelspec": {
   "display_name": "Julia 1.2.0",
   "language": "julia",
   "name": "julia-1.2"
  },
  "language_info": {
   "file_extension": ".jl",
   "mimetype": "application/julia",
   "name": "julia",
   "version": "1.2.0"
  }
 },
 "nbformat": 4,
 "nbformat_minor": 4
}
